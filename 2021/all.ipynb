{
 "cells": [
  {
   "cell_type": "markdown",
   "metadata": {},
   "source": [
    "# [Advent of Code 2021](https://adventofcode.com/2021)\n",
    "\n",
    "Starting from day 10, I'll try to follow [Norvig's approach](https://github.com/norvig/pytudes/blob/main/ipynb/Advent-2020.ipynb), with all solutions in a single notebook."
   ]
  },
  {
   "cell_type": "markdown",
   "metadata": {},
   "source": [
    "# Helpers\n",
    "\n",
    "Most of the helpers are taken from Norvig's notebook."
   ]
  },
  {
   "cell_type": "code",
   "execution_count": 1,
   "metadata": {},
   "outputs": [],
   "source": [
    "import math\n",
    "import re\n",
    "import itertools\n",
    "from collections import Counter, defaultdict, namedtuple, deque\n",
    "from itertools import permutations, combinations, product\n",
    "from functools import cache, reduce\n",
    "from typing import Tuple\n",
    "\n",
    "# display() is already available, but Pylance is unaware. This import helps.\n",
    "# https://github.com/microsoft/pylance-release/issues/1598\n",
    "from IPython.display import display\n",
    "from PIL import Image\n",
    "import matplotlib.pyplot as plt\n",
    "import numpy\n",
    "\n",
    "def first(iterable, default=None):\n",
    "    \"Return first item in `iterable`, or `default`.\"\n",
    "    return next(iter(iterable), default)\n",
    "\n",
    "def last(iterable, default=None):\n",
    "    \"Return last item in `iterable`, or `default`.\"\n",
    "    it = default\n",
    "    for it in iterable: pass\n",
    "    return it\n",
    "\n",
    "def quantify(iterable, pred=bool) -> int:\n",
    "    \"Count the number of items in `iterable` for which `pred` is true.\"\n",
    "    return sum(1 for item in iterable if pred(item))\n",
    "\n",
    "def ints(text: str) -> Tuple[int]:\n",
    "    \"Return a tuple of all the integers in `text`.\"\n",
    "    return tuple(map(int, re.findall('-?[0-9]+', text)))\n",
    "\n",
    "def data(inp: str, parser=str, sep='\\n') -> list:\n",
    "    \"Parse input into sections separated by `sep`, and apply `parser` to each.\"\n",
    "    sections = inp.rstrip().split(sep)\n",
    "    return [parser(section) for section in sections]\n",
    "\n",
    "def do(day, *answers, ex=None):\n",
    "    \"E.g., `do(3)` returns `{1: day3_1(in3), 2: day3_2(in3)}`. Verifies `answers` if given.\"\n",
    "    g = globals()\n",
    "    got = []\n",
    "    parse = g[f'parse{day}']\n",
    "    data = f'ex{day}_{ex}' if ex else f'in{day}'\n",
    "    for part in (1, 2):\n",
    "        fname = f'day{day}_{part}'\n",
    "        if fname in g: \n",
    "            got.append(g[fname](parse(g[data])))\n",
    "            if len(answers) >= part:\n",
    "                assert got[-1] == answers[part - 1], (\n",
    "                    f'{fname}(parse{day}({data})) got {got[-1]}; expected {answers[part - 1]}')\n",
    "    return got\n",
    "\n",
    "cat = ''.join\n",
    "flatten = itertools.chain.from_iterable"
   ]
  },
  {
   "cell_type": "markdown",
   "metadata": {},
   "source": [
    "# Day 10: Syntax Scoring"
   ]
  },
  {
   "cell_type": "markdown",
   "metadata": {},
   "source": [
    "Analyze inputs with unmatched characters."
   ]
  },
  {
   "cell_type": "code",
   "execution_count": 2,
   "metadata": {},
   "outputs": [],
   "source": [
    "ex10 = '''[({(<(())[]>[[{[]{<()<>>\n",
    "[(()[<>])]({[<{<<[]>>(\n",
    "{([(<{}[<>[]}>{[]{[(<()>\n",
    "(((({<>}<{<{<>}{[]{[]{}\n",
    "[[<[([]))<([[{}[[()]]]\n",
    "[{[{({}]{}}([{[{{{}}([]\n",
    "{<[[]]>}<{[{[{[]{()[[[]\n",
    "[<(<(<(<{}))><([]([]()\n",
    "<{([([[(<>()){}]>(<<{{\n",
    "<{([{{}}[<[[[<>{}]]]>[]]'''\n",
    "in10 = open('day10.txt').read()"
   ]
  },
  {
   "cell_type": "code",
   "execution_count": 3,
   "metadata": {},
   "outputs": [],
   "source": [
    "def parse10(I): return data(I)\n",
    "#parse10(ex10)"
   ]
  },
  {
   "cell_type": "code",
   "execution_count": 4,
   "metadata": {},
   "outputs": [],
   "source": [
    "def match_errors(line):\n",
    "    open, close = '([{<', ')]}>'\n",
    "    s = []\n",
    "    while line:\n",
    "        c, *line = line\n",
    "        if c in close:\n",
    "            if s.pop() != open[close.index(c)]:\n",
    "                return close.index(c) # unexpected character index ('corrupted' line)\n",
    "        elif c in open:\n",
    "            s.append(c)\n",
    "    return s # unbalanced characters stack ('incomplete' line)"
   ]
  },
  {
   "cell_type": "code",
   "execution_count": 5,
   "metadata": {},
   "outputs": [
    {
     "data": {
      "text/plain": [
       "26397"
      ]
     },
     "execution_count": 5,
     "metadata": {},
     "output_type": "execute_result"
    }
   ],
   "source": [
    "def day10_1(D):\n",
    "    points = [3, 57, 1197, 25137]\n",
    "    return sum(points[r] for r in map(match_errors, D) if not isinstance(r, list))\n",
    "day10_1(parse10(ex10))"
   ]
  },
  {
   "cell_type": "code",
   "execution_count": 6,
   "metadata": {},
   "outputs": [
    {
     "data": {
      "text/plain": [
       "388713"
      ]
     },
     "execution_count": 6,
     "metadata": {},
     "output_type": "execute_result"
    }
   ],
   "source": [
    "day10_1(parse10(in10))"
   ]
  },
  {
   "cell_type": "code",
   "execution_count": 7,
   "metadata": {},
   "outputs": [
    {
     "data": {
      "text/plain": [
       "288957"
      ]
     },
     "execution_count": 7,
     "metadata": {},
     "output_type": "execute_result"
    }
   ],
   "source": [
    "def day10_2(D):\n",
    "    def score(cs): return reduce(lambda r, c: r * 5 + '([{<'.index(c) + 1, cs, 0)\n",
    "    scores = sorted(score(reversed(r)) for r in map(match_errors, D) if isinstance(r, list))\n",
    "    return scores[len(scores) // 2]\n",
    "day10_2(parse10(ex10))"
   ]
  },
  {
   "cell_type": "code",
   "execution_count": 8,
   "metadata": {},
   "outputs": [
    {
     "data": {
      "text/plain": [
       "3539961434"
      ]
     },
     "execution_count": 8,
     "metadata": {},
     "output_type": "execute_result"
    }
   ],
   "source": [
    "day10_2(parse10(in10))"
   ]
  },
  {
   "cell_type": "markdown",
   "metadata": {},
   "source": [
    "# Day 11: Dumbo Octopus"
   ]
  },
  {
   "cell_type": "markdown",
   "metadata": {},
   "source": [
    "The task is to implement the algorithm that looks like [Game of Life], with notable differences:\n",
    "* The grid is fixed size - 10x10. Game of Life has infinite grid.\n",
    "* Calculating next step can take multiple iterations, in a [fixed-point][] fashion. In contrast, Game of Life can be implemented with a single iteration.\n",
    "\n",
    "(See also [my solution][day17-solution] to [Advent of Code 2020, day 17][day17].)\n",
    "\n",
    "[fixed-point]: https://en.wikipedia.org/wiki/Fixed_point_(mathematics)\n",
    "[Game of Life]: https://en.wikipedia.org/wiki/Conway%27s_Game_of_Life\n",
    "[day17-solution]: https://github.com/shamrin/adventofcode/blob/main/2020/17.py\n",
    "[day17]: https://adventofcode.com/2020/day/17"
   ]
  },
  {
   "cell_type": "markdown",
   "metadata": {},
   "source": [
    "## Parsing"
   ]
  },
  {
   "cell_type": "code",
   "execution_count": 9,
   "metadata": {},
   "outputs": [],
   "source": [
    "ex11 = '''5483143223\n",
    "2745854711\n",
    "5264556173\n",
    "6141336146\n",
    "6357385478\n",
    "4167524645\n",
    "2176841721\n",
    "6882881134\n",
    "4846848554\n",
    "5283751526'''\n",
    "in11 = open('day11.txt').read()"
   ]
  },
  {
   "cell_type": "code",
   "execution_count": 10,
   "metadata": {},
   "outputs": [
    {
     "data": {
      "text/plain": [
       "[[5, 4, 8, 3, 1, 4, 3, 2, 2, 3],\n",
       " [2, 7, 4, 5, 8, 5, 4, 7, 1, 1],\n",
       " [5, 2, 6, 4, 5, 5, 6, 1, 7, 3],\n",
       " [6, 1, 4, 1, 3, 3, 6, 1, 4, 6],\n",
       " [6, 3, 5, 7, 3, 8, 5, 4, 7, 8],\n",
       " [4, 1, 6, 7, 5, 2, 4, 6, 4, 5],\n",
       " [2, 1, 7, 6, 8, 4, 1, 7, 2, 1],\n",
       " [6, 8, 8, 2, 8, 8, 1, 1, 3, 4],\n",
       " [4, 8, 4, 6, 8, 4, 8, 5, 5, 4],\n",
       " [5, 2, 8, 3, 7, 5, 1, 5, 2, 6]]"
      ]
     },
     "execution_count": 10,
     "metadata": {},
     "output_type": "execute_result"
    }
   ],
   "source": [
    "def parse11(I): return data(I, lambda a: list(map(int, a)))\n",
    "parse11(ex11)"
   ]
  },
  {
   "cell_type": "markdown",
   "metadata": {},
   "source": [
    "## Solution core\n",
    "\n",
    "The core of the solution is `octopus_flashes` function. It generates numbers of octopuses that flashed after each step.\n",
    "\n",
    "Main data structure is `g` dictionary. It maps octopus *coordinate* to its current *energy value*.\n",
    "\n",
    "Auxilary data structures:\n",
    "\n",
    "* `step_flashes` set - coordinates of octopuses that flashed during the current step *so far*\n",
    "* `flashes` set - coordinates of octopuses that flashed *right now* \n",
    "* `adds` dictionary maps *coordinate* to current flash-induced *energy increase*. For example, `adds[1,1]` tells how many octopuses just flashed next to the octopus at `(1,1)`. Uses [`collections.Counter`](https://docs.python.org/3/library/collections.html#collections.Counter) helper."
   ]
  },
  {
   "cell_type": "code",
   "execution_count": 11,
   "metadata": {},
   "outputs": [],
   "source": [
    "def octopus_flashes(I, steps):\n",
    "    g = {(x,y): c for y, r in enumerate(I) for x, c in enumerate(r)}\n",
    "    for _ in range(steps):\n",
    "        g = {p: c+1 for p, c in g.items()}\n",
    "        step_flashes = set()\n",
    "        while flashes := {p for p, c in g.items() if c > 9}:\n",
    "            step_flashes |= flashes\n",
    "            adds = Counter((x+dx, y+dy) for x, y in flashes for dx in (-1,0,1) for dy in (-1,0,1))\n",
    "            g = {p: 0 if p in step_flashes else c+adds[p] for p, c in g.items()}\n",
    "        yield len(step_flashes)"
   ]
  },
  {
   "cell_type": "markdown",
   "metadata": {},
   "source": [
    "## Part 1"
   ]
  },
  {
   "cell_type": "code",
   "execution_count": 12,
   "metadata": {},
   "outputs": [
    {
     "data": {
      "text/plain": [
       "1656"
      ]
     },
     "execution_count": 12,
     "metadata": {},
     "output_type": "execute_result"
    }
   ],
   "source": [
    "def day11_1(D): return sum(octopus_flashes(D, 100))\n",
    "day11_1(parse11(ex11))"
   ]
  },
  {
   "cell_type": "code",
   "execution_count": 13,
   "metadata": {},
   "outputs": [
    {
     "data": {
      "text/plain": [
       "1608"
      ]
     },
     "execution_count": 13,
     "metadata": {},
     "output_type": "execute_result"
    }
   ],
   "source": [
    "day11_1(parse11(in11))"
   ]
  },
  {
   "cell_type": "markdown",
   "metadata": {},
   "source": [
    "## Part 2"
   ]
  },
  {
   "cell_type": "code",
   "execution_count": 14,
   "metadata": {},
   "outputs": [
    {
     "data": {
      "text/plain": [
       "195"
      ]
     },
     "execution_count": 14,
     "metadata": {},
     "output_type": "execute_result"
    }
   ],
   "source": [
    "def day11_2(D): return next(i+1 for i, f in enumerate(octopus_flashes(D, 10**6)) if f == 100)\n",
    "day11_2(parse11(ex11))"
   ]
  },
  {
   "cell_type": "code",
   "execution_count": 15,
   "metadata": {},
   "outputs": [
    {
     "data": {
      "text/plain": [
       "214"
      ]
     },
     "execution_count": 15,
     "metadata": {},
     "output_type": "execute_result"
    }
   ],
   "source": [
    "day11_2(parse11(in11))"
   ]
  },
  {
   "cell_type": "markdown",
   "metadata": {},
   "source": [
    "# Day 12: Passage Pathing"
   ]
  },
  {
   "cell_type": "markdown",
   "metadata": {},
   "source": [
    "## Parsing"
   ]
  },
  {
   "cell_type": "code",
   "execution_count": 16,
   "metadata": {},
   "outputs": [],
   "source": [
    "ex12_1 = '''start-A\n",
    "start-b\n",
    "A-c\n",
    "A-b\n",
    "b-d\n",
    "A-end\n",
    "b-end'''\n",
    "ex12_2 = '''dc-end\n",
    "HN-start\n",
    "start-kj\n",
    "dc-start\n",
    "dc-HN\n",
    "LN-dc\n",
    "HN-end\n",
    "kj-sa\n",
    "kj-HN\n",
    "kj-dc'''\n",
    "ex12_3 = '''fs-end\n",
    "he-DX\n",
    "fs-he\n",
    "start-DX\n",
    "pj-DX\n",
    "end-zg\n",
    "zg-sl\n",
    "zg-pj\n",
    "pj-he\n",
    "RW-he\n",
    "fs-DX\n",
    "pj-RW\n",
    "zg-RW\n",
    "start-pj\n",
    "he-WI\n",
    "zg-he\n",
    "pj-fs\n",
    "start-RW'''\n",
    "in12 = open('day12.txt').read()"
   ]
  },
  {
   "cell_type": "code",
   "execution_count": 17,
   "metadata": {},
   "outputs": [
    {
     "data": {
      "text/plain": [
       "defaultdict(list,\n",
       "            {'start': ['A', 'b'],\n",
       "             'A': ['c', 'b', 'end'],\n",
       "             'c': ['A'],\n",
       "             'b': ['A', 'd', 'end'],\n",
       "             'd': ['b']})"
      ]
     },
     "execution_count": 17,
     "metadata": {},
     "output_type": "execute_result"
    }
   ],
   "source": [
    "def parse12(I):\n",
    "    d = data(I, lambda s: s.split('-'))\n",
    "    g = defaultdict(list)\n",
    "    for v1, v2 in d:\n",
    "        if v1 != 'end' and v2 != 'start':\n",
    "            g[v1].append(v2)\n",
    "        if v2 != 'end' and v1 != 'start':\n",
    "            g[v2].append(v1)\n",
    "    return g\n",
    "parse12(ex12_1)"
   ]
  },
  {
   "cell_type": "markdown",
   "metadata": {},
   "source": [
    "## Solution"
   ]
  },
  {
   "cell_type": "code",
   "execution_count": 18,
   "metadata": {},
   "outputs": [],
   "source": [
    "def day12_1(G):\n",
    "    def paths(G, start, end, path=[]):\n",
    "        path = path + [start]\n",
    "        if start == end: yield path\n",
    "        for n in G[start]:\n",
    "            if n not in path or n.isupper():\n",
    "                yield from paths(G, n, end, path)\n",
    "    return quantify(paths(G, 'start', 'end'))"
   ]
  },
  {
   "cell_type": "code",
   "execution_count": 19,
   "metadata": {},
   "outputs": [],
   "source": [
    "def day12_2(G):\n",
    "    def paths(G, start, end, path=[], twice=False):\n",
    "        path = path + [start]\n",
    "        if start == end: yield path\n",
    "        for n in G[start]:\n",
    "            if not twice or n not in path or n.isupper():\n",
    "                yield from paths(G, n, end, path, twice or (not n.isupper() and n in path))\n",
    "    return quantify(paths(G, 'start', 'end'))"
   ]
  },
  {
   "cell_type": "code",
   "execution_count": 20,
   "metadata": {},
   "outputs": [
    {
     "data": {
      "text/plain": [
       "[4186, 92111]"
      ]
     },
     "execution_count": 20,
     "metadata": {},
     "output_type": "execute_result"
    }
   ],
   "source": [
    "do(12, 10, 36, ex=1)\n",
    "do(12, 19, 103, ex=2)\n",
    "do(12, 226, 3509, ex=3)\n",
    "do(12, 4186, 92111)"
   ]
  },
  {
   "cell_type": "markdown",
   "metadata": {},
   "source": [
    "I found it not worth it to combine the parts together. I think they are quite readabable as they are."
   ]
  },
  {
   "cell_type": "markdown",
   "metadata": {},
   "source": [
    "# Day 13: Transparent Origami"
   ]
  },
  {
   "cell_type": "markdown",
   "metadata": {},
   "source": [
    "## Parsing"
   ]
  },
  {
   "cell_type": "code",
   "execution_count": 21,
   "metadata": {},
   "outputs": [],
   "source": [
    "ex13_1 = '''6,10\n",
    "0,14\n",
    "9,10\n",
    "0,3\n",
    "10,4\n",
    "4,11\n",
    "6,0\n",
    "6,12\n",
    "4,1\n",
    "0,13\n",
    "10,12\n",
    "3,4\n",
    "3,0\n",
    "8,4\n",
    "1,10\n",
    "2,14\n",
    "8,10\n",
    "9,0\n",
    "\n",
    "fold along y=7\n",
    "fold along x=5'''\n",
    "in13 = open('day13.txt').read()"
   ]
  },
  {
   "cell_type": "code",
   "execution_count": 22,
   "metadata": {},
   "outputs": [
    {
     "data": {
      "text/plain": [
       "([(6, 10),\n",
       "  (0, 14),\n",
       "  (9, 10),\n",
       "  (0, 3),\n",
       "  (10, 4),\n",
       "  (4, 11),\n",
       "  (6, 0),\n",
       "  (6, 12),\n",
       "  (4, 1),\n",
       "  (0, 13),\n",
       "  (10, 12),\n",
       "  (3, 4),\n",
       "  (3, 0),\n",
       "  (8, 4),\n",
       "  (1, 10),\n",
       "  (2, 14),\n",
       "  (8, 10),\n",
       "  (9, 0)],\n",
       " [('y', 7), ('x', 5)])"
      ]
     },
     "execution_count": 22,
     "metadata": {},
     "output_type": "execute_result"
    }
   ],
   "source": [
    "def parse13(I):\n",
    "    D = data(I, lambda s: s.split('\\n'), '\\n\\n')\n",
    "    D = (\n",
    "        [tuple(map(int,s.split(','))) for s in D[0]],\n",
    "        [s.rpartition(' ')[2].split('=') for s in D[1]],\n",
    "    )\n",
    "    return D[0], [(xy, int(f)) for xy, f in D[1]]\n",
    "parse13(ex13_1)"
   ]
  },
  {
   "cell_type": "markdown",
   "metadata": {},
   "source": [
    "## Solution"
   ]
  },
  {
   "cell_type": "markdown",
   "metadata": {},
   "source": [
    "The core of the algorithm is folding one side along horizontal or vertical axis.\n",
    "\n",
    "First we come with the formula for folding over $x=f$ axis. Folding is the same as *mirroring* all $x > f$ points. To mirror, we first move points to the left, making $x=f$ the new $x=0$ axis:\n",
    "\n",
    "$x - f$\n",
    "\n",
    "After the above, mirroring is a simple negation:\n",
    "\n",
    "$-(x - f)$\n",
    "\n",
    "Lastly, we undo the initial move, to keep the upcoming $f$ values valid: \n",
    "\n",
    "$-(x - f) + f$\n",
    "\n",
    "**Formula for $x$ folding**, after simplifying the above ($\\forall$ means *for all*):\n",
    "\n",
    "$\\forall x > f: x \\leftarrow 2 f - x$\n",
    "\n",
    "**Formula for $y$ folding** is the same:\n",
    "\n",
    "$\\forall y > f: y \\leftarrow 2 f - y$"
   ]
  },
  {
   "cell_type": "code",
   "execution_count": 23,
   "metadata": {},
   "outputs": [
    {
     "name": "stdout",
     "output_type": "stream",
     "text": [
      "#####\n",
      "#...#\n",
      "#...#\n",
      "#...#\n",
      "#####\n"
     ]
    },
    {
     "data": {
      "text/plain": [
       "[17, None]"
      ]
     },
     "execution_count": 23,
     "metadata": {},
     "output_type": "execute_result"
    }
   ],
   "source": [
    "def origami_picture(d):\n",
    "    return '\\n'.join(\n",
    "        cat('#' if (x,y) in d else '.' for x in range(max(x for x,_ in d) + 1))\n",
    "        for y in range(max(y for _,y in d) + 1)\n",
    "    )\n",
    "\n",
    "def origami_folds(dots, folds):\n",
    "    def fold(c, f): return 2*f - c if c > f else c\n",
    "    def foldxy(x, y, xy, f): return fold(x, f) if xy == 'x' else x, fold(y, f) if xy == 'y' else y\n",
    "    return (dots := {foldxy(x, y, xy, f) for x, y in dots} for xy, f in folds)\n",
    "\n",
    "def day13_1(D): return len(first(origami_folds(*D)))\n",
    "def day13_2(D): print(origami_picture(last(origami_folds(*D))))\n",
    "do(13, 17, ex=1)"
   ]
  },
  {
   "cell_type": "code",
   "execution_count": 24,
   "metadata": {},
   "outputs": [
    {
     "name": "stdout",
     "output_type": "stream",
     "text": [
      "#..#.####.###..####.#..#..##..#..#.####\n",
      "#..#.#....#..#....#.#.#..#..#.#..#....#\n",
      "#..#.###..#..#...#..##...#..#.#..#...#.\n",
      "#..#.#....###...#...#.#..####.#..#..#..\n",
      "#..#.#....#.#..#....#.#..#..#.#..#.#...\n",
      ".##..#....#..#.####.#..#.#..#..##..####\n"
     ]
    },
    {
     "data": {
      "text/plain": [
       "[735, None]"
      ]
     },
     "execution_count": 24,
     "metadata": {},
     "output_type": "execute_result"
    }
   ],
   "source": [
    "do(13, 735)"
   ]
  },
  {
   "cell_type": "markdown",
   "metadata": {},
   "source": [
    "## Alternative solution"
   ]
  },
  {
   "cell_type": "markdown",
   "metadata": {},
   "source": [
    "Alternative `origami_folds` implementation, possibly easier to quickly type:\n",
    "\n",
    "1. transform all points to make fold line the new $x=0$ axis: $$x \\leftarrow x-f$$\n",
    "2. mirror all $x>0$ points: $$x \\leftarrow -x$$\n",
    "3. transform all points back: $$x \\leftarrow x+f$$\n",
    "\n",
    "Repeat for $y$."
   ]
  },
  {
   "cell_type": "code",
   "execution_count": 25,
   "metadata": {},
   "outputs": [],
   "source": [
    "def origami_folds(d, folds):\n",
    "    for xy, f in folds:\n",
    "        if xy == 'x':\n",
    "            d = {(x - f, y) for x,y in d}\n",
    "            d = {(-x if x > 0 else x, y) for x,y in d}\n",
    "            d = {(x + f, y) for x,y in d}\n",
    "        else:\n",
    "            d = {(x, y - f) for x,y in d}\n",
    "            d = {(x, -y if y > 0 else y) for x,y in d}\n",
    "            d = {(x, y + f) for x,y in d}\n",
    "        yield d"
   ]
  },
  {
   "cell_type": "markdown",
   "metadata": {},
   "source": [
    "## OCR\n",
    "\n",
    "Let's try OCR! Powered by [Pillow](https://pillow.readthedocs.io/), [Tesseract](https://tesseract-ocr.github.io/) and [Python-tesseract](https://github.com/madmaze/pytesseract)."
   ]
  },
  {
   "cell_type": "code",
   "execution_count": 26,
   "metadata": {},
   "outputs": [
    {
     "data": {
      "image/png": "[encoded data removed]",
      "text/plain": [
       "<PIL.Image.Image image mode=L size=164x32 at 0x106EED730>"
      ]
     },
     "metadata": {},
     "output_type": "display_data"
    },
    {
     "data": {
      "text/plain": [
       "'UFRZKAUZ'"
      ]
     },
     "execution_count": 26,
     "metadata": {},
     "output_type": "execute_result"
    }
   ],
   "source": [
    "\n",
    "def origami_ocr(d):\n",
    "    import pytesseract\n",
    "    w, h = max(x for x,_ in d) + 1, max(y for _,y in d) + 1\n",
    "    data = bytes(255 if (x,y) in d else 0 for y in range(-1, h+1) for x in range(-1, w+1))\n",
    "    W, H = w+2, h+2\n",
    "    im = Image.frombuffer('L', (W, H), data)\n",
    "    display(im.resize((W*4, H*4), Image.NEAREST))\n",
    "    return pytesseract.image_to_string(im, config='--psm 7').strip()\n",
    "\n",
    "origami_ocr(last(origami_folds(*parse13(in13))))"
   ]
  },
  {
   "cell_type": "markdown",
   "metadata": {},
   "source": [
    "# Day 14: Extended Polymerization"
   ]
  },
  {
   "cell_type": "code",
   "execution_count": 27,
   "metadata": {},
   "outputs": [],
   "source": [
    "ex14_1 = '''NNCB\n",
    "\n",
    "CH -> B\n",
    "HH -> N\n",
    "CB -> H\n",
    "NH -> C\n",
    "HB -> C\n",
    "HC -> B\n",
    "HN -> C\n",
    "NN -> C\n",
    "BH -> H\n",
    "NC -> B\n",
    "NB -> B\n",
    "BN -> B\n",
    "BB -> N\n",
    "BC -> B\n",
    "CC -> N\n",
    "CN -> C'''\n",
    "in14 = open('day14.txt').read()"
   ]
  },
  {
   "cell_type": "code",
   "execution_count": 28,
   "metadata": {},
   "outputs": [
    {
     "data": {
      "text/plain": [
       "[3118, 4332887448171]"
      ]
     },
     "execution_count": 28,
     "metadata": {},
     "output_type": "execute_result"
    }
   ],
   "source": [
    "def parse14(I):\n",
    "    t, _, *rs = I.split('\\n')\n",
    "    return t, dict(r.split(' -> ') for r in rs)\n",
    "\n",
    "def polymerization(t, rules, steps):\n",
    "    @cache\n",
    "    def count(a, b, s=steps):\n",
    "        if s == 0: return Counter(a)\n",
    "        m = rules[a+b]\n",
    "        return count(a, m, s-1) + count(m, b, s-1)\n",
    "    c = sum(map(count, t, t[1:]), Counter(t[-1]))\n",
    "    return max(c.values()) - min(c.values())\n",
    "\n",
    "def day14_1(D): return polymerization(*D, 10)\n",
    "def day14_2(D): return polymerization(*D, 40)\n",
    "\n",
    "do(14, 1588, 2188189693529, ex=1)\n",
    "do(14, 3118, 4332887448171)"
   ]
  },
  {
   "cell_type": "markdown",
   "metadata": {},
   "source": [
    "# Day 15: Chiton"
   ]
  },
  {
   "cell_type": "markdown",
   "metadata": {},
   "source": [
    "## Parsing"
   ]
  },
  {
   "cell_type": "code",
   "execution_count": 29,
   "metadata": {},
   "outputs": [],
   "source": [
    "ex15_1 = '''1163751742\n",
    "1381373672\n",
    "2136511328\n",
    "3694931569\n",
    "7463417111\n",
    "1319128137\n",
    "1359912421\n",
    "3125421639\n",
    "1293138521\n",
    "2311944581'''\n",
    "in15 = open('day15.txt').read()"
   ]
  },
  {
   "cell_type": "code",
   "execution_count": 30,
   "metadata": {},
   "outputs": [
    {
     "data": {
      "text/plain": [
       "[[1, 1, 6, 3, 7, 5, 1, 7, 4, 2],\n",
       " [1, 3, 8, 1, 3, 7, 3, 6, 7, 2],\n",
       " [2, 1, 3, 6, 5, 1, 1, 3, 2, 8],\n",
       " [3, 6, 9, 4, 9, 3, 1, 5, 6, 9],\n",
       " [7, 4, 6, 3, 4, 1, 7, 1, 1, 1],\n",
       " [1, 3, 1, 9, 1, 2, 8, 1, 3, 7],\n",
       " [1, 3, 5, 9, 9, 1, 2, 4, 2, 1],\n",
       " [3, 1, 2, 5, 4, 2, 1, 6, 3, 9],\n",
       " [1, 2, 9, 3, 1, 3, 8, 5, 2, 1],\n",
       " [2, 3, 1, 1, 9, 4, 4, 5, 8, 1]]"
      ]
     },
     "execution_count": 30,
     "metadata": {},
     "output_type": "execute_result"
    }
   ],
   "source": [
    "def parse15(I): return data(I, lambda a: list(map(int, a)))\n",
    "parse15(ex15_1)"
   ]
  },
  {
   "cell_type": "markdown",
   "metadata": {},
   "source": [
    "## Solution"
   ]
  },
  {
   "cell_type": "code",
   "execution_count": 31,
   "metadata": {},
   "outputs": [
    {
     "data": {
      "text/plain": [
       "[415, 2864]"
      ]
     },
     "execution_count": 31,
     "metadata": {},
     "output_type": "execute_result"
    }
   ],
   "source": [
    "def chiton_graph(D, times):\n",
    "    def wrap(n): return n if n <= 9 else n % 9\n",
    "    risk = {}\n",
    "    N = len(D[0])\n",
    "    for i in range(times):\n",
    "        for j in range(times):\n",
    "            risk.update(((x+N*i,y+N*j), wrap(w+i+j)) for y, r in enumerate(D) for x, w in enumerate(r))\n",
    "\n",
    "    g = defaultdict(list)\n",
    "    for x, y in risk:\n",
    "        g[(x, y)].extend(\n",
    "            (x+dx, y+dy) for dx, dy in product((-1,0,1), (-1,0,1))\n",
    "            if (dx or dy) and not (dx and dy) and (x+dx, y+dy) in risk\n",
    "        )\n",
    "\n",
    "    return N*times, g, risk\n",
    "\n",
    "def chiton_dijkstra(g, s, t, risk):\n",
    "    import heapq\n",
    "    q = []\n",
    "    dist = defaultdict(lambda: math.inf, {s: 0})\n",
    "    parents = {}\n",
    "    heapq.heappush(q, (0, s))\n",
    "    while q:\n",
    "        d, v = heapq.heappop(q)\n",
    "        for w in g[v]:\n",
    "            new_d = d + risk[w]\n",
    "            if new_d < dist[w]:\n",
    "                dist[w] = new_d\n",
    "                parents[w] = v\n",
    "                heapq.heappush(q, (new_d, w))\n",
    "\n",
    "    path = [t]\n",
    "    while path[-1] != s:\n",
    "        path.append(parents[path[-1]])\n",
    "\n",
    "    return dist[t], path[::-1]\n",
    "\n",
    "def day15_1(D):\n",
    "    N, g, risk = chiton_graph(D, 1)\n",
    "    return chiton_dijkstra(g, (0,0), (N-1,N-1), risk)[0]\n",
    "\n",
    "def day15_2(D):\n",
    "    N, g, risk = chiton_graph(D, 5)\n",
    "    return chiton_dijkstra(g, (0,0), (N-1,N-1), risk)[0]\n",
    "\n",
    "do(15, 40, 315, ex=1)\n",
    "do(15, 415, 2864)"
   ]
  },
  {
   "cell_type": "markdown",
   "metadata": {},
   "source": [
    "## Plot path"
   ]
  },
  {
   "cell_type": "code",
   "execution_count": 32,
   "metadata": {},
   "outputs": [
    {
     "data": {
      "application/vnd.jupyter.widget-view+json": {
       "model_id": "181285699a7a40ffb65f9fae64f0599a",
       "version_major": 2,
       "version_minor": 0
      },
      "text/html": [
       "\n",
       "            <div style=\"display: inline-block;\">\n",
       "                <div class=\"jupyter-widgets widget-label\" style=\"text-align: center;\">\n",
       "                    Figure\n",
       "                </div>\n",
       "                <img src='data:image/png;base64,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' width=640.0/>\n",
       "            </div>\n",
       "        "
      ],
      "text/plain": [
       "Canvas(toolbar=Toolbar(toolitems=[('Home', 'Reset original view', 'home', 'home'), ('Back', 'Back to previous …"
      ]
     },
     "metadata": {},
     "output_type": "display_data"
    }
   ],
   "source": [
    "def chiton_plot(I):\n",
    "    N, g, risk = chiton_graph(parse15(I), 1)\n",
    "    path = chiton_dijkstra(g, (0,0), (N-1,N-1), risk)[1]\n",
    "\n",
    "    plt.figure()\n",
    "    plt.gca().invert_yaxis()\n",
    "    plt.plot(*numpy.array(path).T, \",-\")\n",
    "\n",
    "%matplotlib widget\n",
    "chiton_plot(in15)"
   ]
  }
 ],
 "metadata": {
  "interpreter": {
   "hash": "cbc47132c8a580bb15f2cbaa263348454952b7d9b80f6ddef2ee749d71daad3d"
  },
  "kernelspec": {
   "display_name": "Python 3.9.8 64-bit ('adventofcode2021-Vde9lgL1-py3.9': poetry)",
   "name": "python3"
  },
  "language_info": {
   "codemirror_mode": {
    "name": "ipython",
    "version": 3
   },
   "file_extension": ".py",
   "mimetype": "text/x-python",
   "name": "python",
   "nbconvert_exporter": "python",
   "pygments_lexer": "ipython3",
   "version": "3.9.8"
  },
  "orig_nbformat": 4
 },
 "nbformat": 4,
 "nbformat_minor": 2
}
