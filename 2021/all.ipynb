{
 "cells": [
  {
   "cell_type": "markdown",
   "metadata": {},
   "source": [
    "# [Advent of Code 2021](https://adventofcode.com/2021)\n",
    "\n",
    "Starting from day 10, I'll try to follow [Norvig's approach](https://github.com/norvig/pytudes/blob/main/ipynb/Advent-2020.ipynb), with all solutions in a single notebook."
   ]
  },
  {
   "cell_type": "markdown",
   "metadata": {},
   "source": [
    "# Helpers\n",
    "\n",
    "Most of the helpers are taken from Norvig's notebook."
   ]
  },
  {
   "cell_type": "code",
   "execution_count": 1,
   "metadata": {},
   "outputs": [],
   "source": [
    "import math\n",
    "import re\n",
    "import itertools\n",
    "from collections import Counter, defaultdict, namedtuple, deque\n",
    "from itertools import permutations, combinations, product\n",
    "from functools import cache, reduce\n",
    "from typing import Tuple\n",
    "\n",
    "def first(iterable, default=None):\n",
    "    \"Return first item in `iterable`, or `default`.\"\n",
    "    return next(iter(iterable), default)\n",
    "\n",
    "def quantify(iterable, pred=bool) -> int:\n",
    "    \"Count the number of items in `iterable` for which `pred` is true.\"\n",
    "    return sum(1 for item in iterable if pred(item))\n",
    "\n",
    "def ints(text: str) -> Tuple[int]:\n",
    "    \"Return a tuple of all the integers in `text`.\"\n",
    "    return tuple(map(int, re.findall('-?[0-9]+', text)))\n",
    "\n",
    "def data(inp: str, parser=str, sep='\\n') -> list:\n",
    "    \"Parse input into sections separated by `sep`, and apply `parser` to each.\"\n",
    "    sections = inp.rstrip().split(sep)\n",
    "    return [parser(section) for section in sections]\n",
    "\n",
    "cat = ''.join\n",
    "flatten = itertools.chain.from_iterable"
   ]
  },
  {
   "cell_type": "markdown",
   "metadata": {},
   "source": [
    "# Day 10: Syntax Scoring"
   ]
  },
  {
   "cell_type": "markdown",
   "metadata": {},
   "source": [
    "Analyze inputs with unmatched characters."
   ]
  },
  {
   "cell_type": "code",
   "execution_count": 2,
   "metadata": {},
   "outputs": [],
   "source": [
    "ex10 = '''[({(<(())[]>[[{[]{<()<>>\n",
    "[(()[<>])]({[<{<<[]>>(\n",
    "{([(<{}[<>[]}>{[]{[(<()>\n",
    "(((({<>}<{<{<>}{[]{[]{}\n",
    "[[<[([]))<([[{}[[()]]]\n",
    "[{[{({}]{}}([{[{{{}}([]\n",
    "{<[[]]>}<{[{[{[]{()[[[]\n",
    "[<(<(<(<{}))><([]([]()\n",
    "<{([([[(<>()){}]>(<<{{\n",
    "<{([{{}}[<[[[<>{}]]]>[]]'''\n",
    "in10 = open('day10.txt').read()"
   ]
  },
  {
   "cell_type": "code",
   "execution_count": 3,
   "metadata": {},
   "outputs": [],
   "source": [
    "def parse10(I): return data(I)\n",
    "#parse10(ex10)"
   ]
  },
  {
   "cell_type": "code",
   "execution_count": 4,
   "metadata": {},
   "outputs": [],
   "source": [
    "def match_errors(line):\n",
    "    open, close = '([{<', ')]}>'\n",
    "    s = []\n",
    "    while line:\n",
    "        c, *line = line\n",
    "        if c in close:\n",
    "            if s.pop() != open[close.index(c)]:\n",
    "                return close.index(c) # unexpected character index ('corrupted' line)\n",
    "        elif c in open:\n",
    "            s.append(c)\n",
    "    return s # unbalanced characters stack ('incomplete' line)"
   ]
  },
  {
   "cell_type": "code",
   "execution_count": 5,
   "metadata": {},
   "outputs": [
    {
     "data": {
      "text/plain": [
       "26397"
      ]
     },
     "execution_count": 5,
     "metadata": {},
     "output_type": "execute_result"
    }
   ],
   "source": [
    "def day10_1(D):\n",
    "    points = [3, 57, 1197, 25137]\n",
    "    return sum(points[r] for r in map(match_errors, D) if not isinstance(r, list))\n",
    "day10_1(parse10(ex10))"
   ]
  },
  {
   "cell_type": "code",
   "execution_count": 6,
   "metadata": {},
   "outputs": [
    {
     "data": {
      "text/plain": [
       "388713"
      ]
     },
     "execution_count": 6,
     "metadata": {},
     "output_type": "execute_result"
    }
   ],
   "source": [
    "day10_1(parse10(in10))"
   ]
  },
  {
   "cell_type": "code",
   "execution_count": 7,
   "metadata": {},
   "outputs": [
    {
     "data": {
      "text/plain": [
       "288957"
      ]
     },
     "execution_count": 7,
     "metadata": {},
     "output_type": "execute_result"
    }
   ],
   "source": [
    "def day10_2(D):\n",
    "    def score(cs): return reduce(lambda r, c: r * 5 + '([{<'.index(c) + 1, cs, 0)\n",
    "    scores = sorted(score(reversed(r)) for r in map(match_errors, D) if isinstance(r, list))\n",
    "    return scores[len(scores) // 2]\n",
    "day10_2(parse10(ex10))"
   ]
  },
  {
   "cell_type": "code",
   "execution_count": 8,
   "metadata": {},
   "outputs": [
    {
     "data": {
      "text/plain": [
       "3539961434"
      ]
     },
     "execution_count": 8,
     "metadata": {},
     "output_type": "execute_result"
    }
   ],
   "source": [
    "day10_2(parse10(in10))"
   ]
  },
  {
   "cell_type": "markdown",
   "metadata": {},
   "source": [
    "# Day 11: Dumbo Octopus"
   ]
  },
  {
   "cell_type": "markdown",
   "metadata": {},
   "source": [
    "The task is to implement the algorithm that looks like Game of Life, with some differences:\n",
    "* The grid is fixed size - 10x10. Game of Life has infitite grid.\n",
    "* Calculation next step can take multiple iteration (in a [fixed-point](https://en.wikipedia.org/wiki/Fixed_point_(mathematics)) manner). Calculating Game of life next generation is much simpler."
   ]
  },
  {
   "cell_type": "code",
   "execution_count": 9,
   "metadata": {},
   "outputs": [],
   "source": [
    "ex11 = '''5483143223\n",
    "2745854711\n",
    "5264556173\n",
    "6141336146\n",
    "6357385478\n",
    "4167524645\n",
    "2176841721\n",
    "6882881134\n",
    "4846848554\n",
    "5283751526'''\n",
    "in11 = open('day11.txt').read()"
   ]
  },
  {
   "cell_type": "code",
   "execution_count": 10,
   "metadata": {},
   "outputs": [],
   "source": [
    "def parse11(I): return data(I, lambda a: list(map(int, a)))\n",
    "#parse11(ex11)"
   ]
  },
  {
   "cell_type": "markdown",
   "metadata": {},
   "source": [
    "Here is the core of the solution - `octopus_flashes`. It generates numbers of flashes for each step.\n",
    "\n",
    "Current grid is tracked in `g` dictionary. It maps *coordinate* to an octopus *energy value*.\n",
    "\n",
    "Auxilary data structures:\n",
    "\n",
    "* `step_flashes` - set of octopuses coordinates that flashed during the current step *so far*\n",
    "* `flashes` - set of octopus coordinates that flashed *right now* \n",
    "* `adds` - mapping *coordinate* to the current flash-induced *energy increase*. I use [`collections.Counter`](https://docs.python.org/3/library/collections.html#collections.Counter) to count how many times neighbouring octopuses flashed and subsequently causes energy increase for the current octopus."
   ]
  },
  {
   "cell_type": "code",
   "execution_count": 11,
   "metadata": {},
   "outputs": [],
   "source": [
    "def octopus_flashes(I, steps):\n",
    "    g = {(x,y): c for y, r in enumerate(I) for x, c in enumerate(r)}\n",
    "    for _ in range(steps):\n",
    "        g = {p: c+1 for p, c in g.items()}\n",
    "        step_flashes = set()\n",
    "        while flashes := {p for p, c in g.items() if c > 9}:\n",
    "            step_flashes |= flashes\n",
    "            adds = Counter((x+dx, y+dy) for (x, y) in flashes for dx in (-1,0,1) for dy in (-1,0,1))\n",
    "            g = {p: 0 if p in step_flashes else c+adds[p] for p, c in g.items()}\n",
    "        yield len(step_flashes)"
   ]
  },
  {
   "cell_type": "code",
   "execution_count": 12,
   "metadata": {},
   "outputs": [
    {
     "data": {
      "text/plain": [
       "1656"
      ]
     },
     "execution_count": 12,
     "metadata": {},
     "output_type": "execute_result"
    }
   ],
   "source": [
    "def day11_1(D): return sum(octopus_flashes(D, 100))\n",
    "day11_1(parse11(ex11))"
   ]
  },
  {
   "cell_type": "code",
   "execution_count": 13,
   "metadata": {},
   "outputs": [
    {
     "data": {
      "text/plain": [
       "1608"
      ]
     },
     "execution_count": 13,
     "metadata": {},
     "output_type": "execute_result"
    }
   ],
   "source": [
    "day11_1(parse11(in11))"
   ]
  },
  {
   "cell_type": "code",
   "execution_count": 14,
   "metadata": {},
   "outputs": [
    {
     "data": {
      "text/plain": [
       "195"
      ]
     },
     "execution_count": 14,
     "metadata": {},
     "output_type": "execute_result"
    }
   ],
   "source": [
    "def day11_2(D): return next(i+1 for i, f in enumerate(octopus_flashes(D, 10**6)) if f == 100)\n",
    "day11_2(parse11(ex11))"
   ]
  },
  {
   "cell_type": "code",
   "execution_count": 15,
   "metadata": {},
   "outputs": [
    {
     "data": {
      "text/plain": [
       "214"
      ]
     },
     "execution_count": 15,
     "metadata": {},
     "output_type": "execute_result"
    }
   ],
   "source": [
    "day11_2(parse11(in11))"
   ]
  }
 ],
 "metadata": {
  "interpreter": {
   "hash": "cbc47132c8a580bb15f2cbaa263348454952b7d9b80f6ddef2ee749d71daad3d"
  },
  "kernelspec": {
   "display_name": "Python 3.9.8 64-bit ('adventofcode2021-Vde9lgL1-py3.9': poetry)",
   "name": "python3"
  },
  "language_info": {
   "codemirror_mode": {
    "name": "ipython",
    "version": 3
   },
   "file_extension": ".py",
   "mimetype": "text/x-python",
   "name": "python",
   "nbconvert_exporter": "python",
   "pygments_lexer": "ipython3",
   "version": "3.9.8"
  },
  "orig_nbformat": 4
 },
 "nbformat": 4,
 "nbformat_minor": 2
}
