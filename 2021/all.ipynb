{
 "cells": [
  {
   "cell_type": "markdown",
   "metadata": {},
   "source": [
    "# [Advent of Code 2021](https://adventofcode.com/2021)\n",
    "\n",
    "Starting from day 10, I'll try to follow [Norvig's approach](https://github.com/norvig/pytudes/blob/main/ipynb/Advent-2020.ipynb), with all solutions in a single notebook."
   ]
  },
  {
   "cell_type": "markdown",
   "metadata": {},
   "source": [
    "# Helpers\n",
    "\n",
    "Most of the helpers are taken from Norvig's notebook."
   ]
  },
  {
   "cell_type": "code",
   "execution_count": 1,
   "metadata": {},
   "outputs": [],
   "source": [
    "import math\n",
    "import re\n",
    "import itertools\n",
    "from collections import Counter, defaultdict, namedtuple, deque\n",
    "from itertools import permutations, combinations, product\n",
    "from functools import cache, reduce\n",
    "from typing import Tuple\n",
    "\n",
    "def first(iterable, default=None):\n",
    "    \"Return first item in `iterable`, or `default`.\"\n",
    "    return next(iter(iterable), default)\n",
    "\n",
    "def quantify(iterable, pred=bool) -> int:\n",
    "    \"Count the number of items in `iterable` for which `pred` is true.\"\n",
    "    return sum(1 for item in iterable if pred(item))\n",
    "\n",
    "def ints(text: str) -> Tuple[int]:\n",
    "    \"Return a tuple of all the integers in `text`.\"\n",
    "    return tuple(map(int, re.findall('-?[0-9]+', text)))\n",
    "\n",
    "def data(inp: str, parser=str, sep='\\n') -> list:\n",
    "    \"Parse input into sections separated by `sep`, and apply `parser` to each.\"\n",
    "    sections = inp.rstrip().split(sep)\n",
    "    return [parser(section) for section in sections]\n",
    "\n",
    "def do(day, *answers, ex=None):\n",
    "    \"E.g., `do(3)` returns `{1: day3_1(in3), 2: day3_2(in3)}`. Verifies `answers` if given.\"\n",
    "    g = globals()\n",
    "    got = []\n",
    "    parse = g[f'parse{day}']\n",
    "    data = f'ex{day}_{ex}' if ex else f'in{day}'\n",
    "    for part in (1, 2):\n",
    "        fname = f'day{day}_{part}'\n",
    "        if fname in g: \n",
    "            got.append(g[fname](parse(g[data])))\n",
    "            if len(answers) >= part:\n",
    "                assert got[-1] == answers[part - 1], (\n",
    "                    f'{fname}(parse{day}({data})) got {got[-1]}; expected {answers[part - 1]}')\n",
    "    return got\n",
    "\n",
    "cat = ''.join\n",
    "flatten = itertools.chain.from_iterable"
   ]
  },
  {
   "cell_type": "markdown",
   "metadata": {},
   "source": [
    "# Day 10: Syntax Scoring"
   ]
  },
  {
   "cell_type": "markdown",
   "metadata": {},
   "source": [
    "Analyze inputs with unmatched characters."
   ]
  },
  {
   "cell_type": "code",
   "execution_count": 2,
   "metadata": {},
   "outputs": [],
   "source": [
    "ex10 = '''[({(<(())[]>[[{[]{<()<>>\n",
    "[(()[<>])]({[<{<<[]>>(\n",
    "{([(<{}[<>[]}>{[]{[(<()>\n",
    "(((({<>}<{<{<>}{[]{[]{}\n",
    "[[<[([]))<([[{}[[()]]]\n",
    "[{[{({}]{}}([{[{{{}}([]\n",
    "{<[[]]>}<{[{[{[]{()[[[]\n",
    "[<(<(<(<{}))><([]([]()\n",
    "<{([([[(<>()){}]>(<<{{\n",
    "<{([{{}}[<[[[<>{}]]]>[]]'''\n",
    "in10 = open('day10.txt').read()"
   ]
  },
  {
   "cell_type": "code",
   "execution_count": 3,
   "metadata": {},
   "outputs": [],
   "source": [
    "def parse10(I): return data(I)\n",
    "#parse10(ex10)"
   ]
  },
  {
   "cell_type": "code",
   "execution_count": 4,
   "metadata": {},
   "outputs": [],
   "source": [
    "def match_errors(line):\n",
    "    open, close = '([{<', ')]}>'\n",
    "    s = []\n",
    "    while line:\n",
    "        c, *line = line\n",
    "        if c in close:\n",
    "            if s.pop() != open[close.index(c)]:\n",
    "                return close.index(c) # unexpected character index ('corrupted' line)\n",
    "        elif c in open:\n",
    "            s.append(c)\n",
    "    return s # unbalanced characters stack ('incomplete' line)"
   ]
  },
  {
   "cell_type": "code",
   "execution_count": 5,
   "metadata": {},
   "outputs": [
    {
     "data": {
      "text/plain": [
       "26397"
      ]
     },
     "execution_count": 5,
     "metadata": {},
     "output_type": "execute_result"
    }
   ],
   "source": [
    "def day10_1(D):\n",
    "    points = [3, 57, 1197, 25137]\n",
    "    return sum(points[r] for r in map(match_errors, D) if not isinstance(r, list))\n",
    "day10_1(parse10(ex10))"
   ]
  },
  {
   "cell_type": "code",
   "execution_count": 6,
   "metadata": {},
   "outputs": [
    {
     "data": {
      "text/plain": [
       "388713"
      ]
     },
     "execution_count": 6,
     "metadata": {},
     "output_type": "execute_result"
    }
   ],
   "source": [
    "day10_1(parse10(in10))"
   ]
  },
  {
   "cell_type": "code",
   "execution_count": 7,
   "metadata": {},
   "outputs": [
    {
     "data": {
      "text/plain": [
       "288957"
      ]
     },
     "execution_count": 7,
     "metadata": {},
     "output_type": "execute_result"
    }
   ],
   "source": [
    "def day10_2(D):\n",
    "    def score(cs): return reduce(lambda r, c: r * 5 + '([{<'.index(c) + 1, cs, 0)\n",
    "    scores = sorted(score(reversed(r)) for r in map(match_errors, D) if isinstance(r, list))\n",
    "    return scores[len(scores) // 2]\n",
    "day10_2(parse10(ex10))"
   ]
  },
  {
   "cell_type": "code",
   "execution_count": 8,
   "metadata": {},
   "outputs": [
    {
     "data": {
      "text/plain": [
       "3539961434"
      ]
     },
     "execution_count": 8,
     "metadata": {},
     "output_type": "execute_result"
    }
   ],
   "source": [
    "day10_2(parse10(in10))"
   ]
  },
  {
   "cell_type": "markdown",
   "metadata": {},
   "source": [
    "# Day 11: Dumbo Octopus"
   ]
  },
  {
   "cell_type": "markdown",
   "metadata": {},
   "source": [
    "The task is to implement the algorithm that looks like [Game of Life], with notable differences:\n",
    "* The grid is fixed size - 10x10. Game of Life has infinite grid.\n",
    "* Calculating next step can take multiple iterations, in a [fixed-point][] fashion. In contrast, Game of Life can be implemented with a single iteration.\n",
    "\n",
    "(See also [my solution][day17-solution] to [Advent of Code 2020, day 17][day17].)\n",
    "\n",
    "[fixed-point]: https://en.wikipedia.org/wiki/Fixed_point_(mathematics)\n",
    "[Game of Life]: https://en.wikipedia.org/wiki/Conway%27s_Game_of_Life\n",
    "[day17-solution]: https://github.com/shamrin/adventofcode/blob/main/2020/17.py\n",
    "[day17]: https://adventofcode.com/2020/day/17"
   ]
  },
  {
   "cell_type": "markdown",
   "metadata": {},
   "source": [
    "## Parsing"
   ]
  },
  {
   "cell_type": "code",
   "execution_count": 9,
   "metadata": {},
   "outputs": [],
   "source": [
    "ex11 = '''5483143223\n",
    "2745854711\n",
    "5264556173\n",
    "6141336146\n",
    "6357385478\n",
    "4167524645\n",
    "2176841721\n",
    "6882881134\n",
    "4846848554\n",
    "5283751526'''\n",
    "in11 = open('day11.txt').read()"
   ]
  },
  {
   "cell_type": "code",
   "execution_count": 10,
   "metadata": {},
   "outputs": [
    {
     "data": {
      "text/plain": [
       "[[5, 4, 8, 3, 1, 4, 3, 2, 2, 3],\n",
       " [2, 7, 4, 5, 8, 5, 4, 7, 1, 1],\n",
       " [5, 2, 6, 4, 5, 5, 6, 1, 7, 3],\n",
       " [6, 1, 4, 1, 3, 3, 6, 1, 4, 6],\n",
       " [6, 3, 5, 7, 3, 8, 5, 4, 7, 8],\n",
       " [4, 1, 6, 7, 5, 2, 4, 6, 4, 5],\n",
       " [2, 1, 7, 6, 8, 4, 1, 7, 2, 1],\n",
       " [6, 8, 8, 2, 8, 8, 1, 1, 3, 4],\n",
       " [4, 8, 4, 6, 8, 4, 8, 5, 5, 4],\n",
       " [5, 2, 8, 3, 7, 5, 1, 5, 2, 6]]"
      ]
     },
     "execution_count": 10,
     "metadata": {},
     "output_type": "execute_result"
    }
   ],
   "source": [
    "def parse11(I): return data(I, lambda a: list(map(int, a)))\n",
    "parse11(ex11)"
   ]
  },
  {
   "cell_type": "markdown",
   "metadata": {},
   "source": [
    "## Solution core\n",
    "\n",
    "The core of the solution is `octopus_flashes` function. It generates numbers of octopuses that flashed after each step.\n",
    "\n",
    "Main data structure is `g` dictionary. It maps octopus *coordinate* to its current *energy value*.\n",
    "\n",
    "Auxilary data structures:\n",
    "\n",
    "* `step_flashes` set - coordinates of octopuses that flashed during the current step *so far*\n",
    "* `flashes` set - coordinates of octopuses that flashed *right now* \n",
    "* `adds` dictionary maps *coordinate* to current flash-induced *energy increase*. For example, `adds[1,1]` tells how many octopuses just flashed next to the octopus at `(1,1)`. Uses [`collections.Counter`](https://docs.python.org/3/library/collections.html#collections.Counter) helper."
   ]
  },
  {
   "cell_type": "code",
   "execution_count": 11,
   "metadata": {},
   "outputs": [],
   "source": [
    "def octopus_flashes(I, steps):\n",
    "    g = {(x,y): c for y, r in enumerate(I) for x, c in enumerate(r)}\n",
    "    for _ in range(steps):\n",
    "        g = {p: c+1 for p, c in g.items()}\n",
    "        step_flashes = set()\n",
    "        while flashes := {p for p, c in g.items() if c > 9}:\n",
    "            step_flashes |= flashes\n",
    "            adds = Counter((x+dx, y+dy) for x, y in flashes for dx in (-1,0,1) for dy in (-1,0,1))\n",
    "            g = {p: 0 if p in step_flashes else c+adds[p] for p, c in g.items()}\n",
    "        yield len(step_flashes)"
   ]
  },
  {
   "cell_type": "markdown",
   "metadata": {},
   "source": [
    "## Part 1"
   ]
  },
  {
   "cell_type": "code",
   "execution_count": 12,
   "metadata": {},
   "outputs": [
    {
     "data": {
      "text/plain": [
       "1656"
      ]
     },
     "execution_count": 12,
     "metadata": {},
     "output_type": "execute_result"
    }
   ],
   "source": [
    "def day11_1(D): return sum(octopus_flashes(D, 100))\n",
    "day11_1(parse11(ex11))"
   ]
  },
  {
   "cell_type": "code",
   "execution_count": 13,
   "metadata": {},
   "outputs": [
    {
     "data": {
      "text/plain": [
       "1608"
      ]
     },
     "execution_count": 13,
     "metadata": {},
     "output_type": "execute_result"
    }
   ],
   "source": [
    "day11_1(parse11(in11))"
   ]
  },
  {
   "cell_type": "markdown",
   "metadata": {},
   "source": [
    "## Part 2"
   ]
  },
  {
   "cell_type": "code",
   "execution_count": 14,
   "metadata": {},
   "outputs": [
    {
     "data": {
      "text/plain": [
       "195"
      ]
     },
     "execution_count": 14,
     "metadata": {},
     "output_type": "execute_result"
    }
   ],
   "source": [
    "def day11_2(D): return next(i+1 for i, f in enumerate(octopus_flashes(D, 10**6)) if f == 100)\n",
    "day11_2(parse11(ex11))"
   ]
  },
  {
   "cell_type": "code",
   "execution_count": 15,
   "metadata": {},
   "outputs": [
    {
     "data": {
      "text/plain": [
       "214"
      ]
     },
     "execution_count": 15,
     "metadata": {},
     "output_type": "execute_result"
    }
   ],
   "source": [
    "day11_2(parse11(in11))"
   ]
  },
  {
   "cell_type": "markdown",
   "metadata": {},
   "source": [
    "# Day 12: Passage Pathing"
   ]
  },
  {
   "cell_type": "markdown",
   "metadata": {},
   "source": [
    "## Parsing"
   ]
  },
  {
   "cell_type": "code",
   "execution_count": 16,
   "metadata": {},
   "outputs": [],
   "source": [
    "ex12_1 = '''start-A\n",
    "start-b\n",
    "A-c\n",
    "A-b\n",
    "b-d\n",
    "A-end\n",
    "b-end'''\n",
    "ex12_2 = '''dc-end\n",
    "HN-start\n",
    "start-kj\n",
    "dc-start\n",
    "dc-HN\n",
    "LN-dc\n",
    "HN-end\n",
    "kj-sa\n",
    "kj-HN\n",
    "kj-dc'''\n",
    "ex12_3 = '''fs-end\n",
    "he-DX\n",
    "fs-he\n",
    "start-DX\n",
    "pj-DX\n",
    "end-zg\n",
    "zg-sl\n",
    "zg-pj\n",
    "pj-he\n",
    "RW-he\n",
    "fs-DX\n",
    "pj-RW\n",
    "zg-RW\n",
    "start-pj\n",
    "he-WI\n",
    "zg-he\n",
    "pj-fs\n",
    "start-RW'''\n",
    "in12 = open('day12.txt').read()"
   ]
  },
  {
   "cell_type": "code",
   "execution_count": 17,
   "metadata": {},
   "outputs": [
    {
     "data": {
      "text/plain": [
       "defaultdict(list,\n",
       "            {'start': ['A', 'b'],\n",
       "             'A': ['c', 'b', 'end'],\n",
       "             'c': ['A'],\n",
       "             'b': ['A', 'd', 'end'],\n",
       "             'd': ['b']})"
      ]
     },
     "execution_count": 17,
     "metadata": {},
     "output_type": "execute_result"
    }
   ],
   "source": [
    "def parse12(I):\n",
    "    d = data(I, lambda s: s.split('-'))\n",
    "    g = defaultdict(list)\n",
    "    for v1, v2 in d:\n",
    "        if v1 != 'end' and v2 != 'start':\n",
    "            g[v1].append(v2)\n",
    "        if v2 != 'end' and v1 != 'start':\n",
    "            g[v2].append(v1)\n",
    "    return g\n",
    "parse12(ex12_1)"
   ]
  },
  {
   "cell_type": "markdown",
   "metadata": {},
   "source": [
    "## Solution"
   ]
  },
  {
   "cell_type": "code",
   "execution_count": 18,
   "metadata": {},
   "outputs": [],
   "source": [
    "def day12_1(G):\n",
    "    def paths(G, start, end, path=[]):\n",
    "        path = path + [start]\n",
    "        if start == end: yield path\n",
    "        for n in G[start]:\n",
    "            if n not in path or n.isupper():\n",
    "                yield from paths(G, n, end, path)\n",
    "    return quantify(paths(G, 'start', 'end'))"
   ]
  },
  {
   "cell_type": "code",
   "execution_count": 19,
   "metadata": {},
   "outputs": [],
   "source": [
    "def day12_2(G):\n",
    "    def paths(G, start, end, path=[], twice=False):\n",
    "        path = path + [start]\n",
    "        if start == end: yield path\n",
    "        for n in G[start]:\n",
    "            if not twice or n not in path or n.isupper():\n",
    "                yield from paths(G, n, end, path, twice or (not n.isupper() and n in path))\n",
    "    return quantify(paths(G, 'start', 'end'))"
   ]
  },
  {
   "cell_type": "code",
   "execution_count": 20,
   "metadata": {},
   "outputs": [
    {
     "data": {
      "text/plain": [
       "[4186, 92111]"
      ]
     },
     "execution_count": 20,
     "metadata": {},
     "output_type": "execute_result"
    }
   ],
   "source": [
    "do(12, 10, 36, ex=1)\n",
    "do(12, 19, 103, ex=2)\n",
    "do(12, 226, 3509, ex=3)\n",
    "do(12, 4186, 92111)"
   ]
  },
  {
   "cell_type": "markdown",
   "metadata": {},
   "source": [
    "I found it not worth it to combine the parts together. I think they are quite readabable as they are."
   ]
  },
  {
   "cell_type": "markdown",
   "metadata": {},
   "source": [
    "# Day 13"
   ]
  },
  {
   "cell_type": "code",
   "execution_count": null,
   "metadata": {},
   "outputs": [],
   "source": [
    "ex13_1 = ''''''\n",
    "in13 = open('day13.txt').read()"
   ]
  },
  {
   "cell_type": "code",
   "execution_count": null,
   "metadata": {},
   "outputs": [],
   "source": [
    "def parse13(I):\n",
    "    return data(I, lambda s: s.split('-'))\n",
    "parse13(ex13_1)"
   ]
  },
  {
   "cell_type": "code",
   "execution_count": null,
   "metadata": {},
   "outputs": [],
   "source": [
    "def day13_1(D):\n",
    "    pass"
   ]
  },
  {
   "cell_type": "code",
   "execution_count": null,
   "metadata": {},
   "outputs": [],
   "source": [
    "def day13_2(D):\n",
    "    pass"
   ]
  },
  {
   "cell_type": "code",
   "execution_count": null,
   "metadata": {},
   "outputs": [],
   "source": [
    "do(13, ex=1)\n",
    "do(13)"
   ]
  }
 ],
 "metadata": {
  "interpreter": {
   "hash": "cbc47132c8a580bb15f2cbaa263348454952b7d9b80f6ddef2ee749d71daad3d"
  },
  "kernelspec": {
   "display_name": "Python 3.9.8 64-bit ('adventofcode2021-Vde9lgL1-py3.9': poetry)",
   "name": "python3"
  },
  "language_info": {
   "codemirror_mode": {
    "name": "ipython",
    "version": 3
   },
   "file_extension": ".py",
   "mimetype": "text/x-python",
   "name": "python",
   "nbconvert_exporter": "python",
   "pygments_lexer": "ipython3",
   "version": "3.9.8"
  },
  "orig_nbformat": 4
 },
 "nbformat": 4,
 "nbformat_minor": 2
}
