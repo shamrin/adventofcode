{
 "cells": [
  {
   "cell_type": "markdown",
   "metadata": {},
   "source": [
    "# [Advent of Code 2021](https://adventofcode.com/2021)\n",
    "\n",
    "Starting from day 10, I'll try to follow [Norvig's approach](https://github.com/norvig/pytudes/blob/main/ipynb/Advent-2020.ipynb), with all solutions in a single notebook."
   ]
  },
  {
   "cell_type": "markdown",
   "metadata": {},
   "source": [
    "# Helpers\n",
    "\n",
    "Most of the helpers are taken from Norvig's notebook."
   ]
  },
  {
   "cell_type": "code",
   "execution_count": 1,
   "metadata": {},
   "outputs": [],
   "source": [
    "import math\n",
    "import sys\n",
    "import re\n",
    "import itertools\n",
    "from collections import Counter, defaultdict, deque\n",
    "from itertools import permutations, combinations, product\n",
    "from functools import cache, reduce\n",
    "from dataclasses import dataclass\n",
    "import operator\n",
    "\n",
    "# display() is already available, but Pylance is unaware. This import helps.\n",
    "# https://github.com/microsoft/pylance-release/issues/1598\n",
    "from IPython.display import display\n",
    "from PIL import Image\n",
    "import matplotlib.pyplot as plt\n",
    "import numpy\n",
    "\n",
    "def first(iterable, default=None):\n",
    "    \"Return first item in `iterable`, or `default`.\"\n",
    "    return next(iter(iterable), default)\n",
    "\n",
    "def last(iterable, default=None):\n",
    "    \"Return last item in `iterable`, or `default`.\"\n",
    "    it = default\n",
    "    for it in iterable: pass\n",
    "    return it\n",
    "\n",
    "def quantify(iterable, pred=bool) -> int:\n",
    "    \"Count the number of items in `iterable` for which `pred` is true.\"\n",
    "    return sum(1 for item in iterable if pred(item))\n",
    "\n",
    "def ints(text: str) -> list[int]:\n",
    "    \"Return all integers in `text`.\"\n",
    "    return list(map(int, re.findall('-?[0-9]+', text)))\n",
    "\n",
    "def data(inp: str, parser=str, sep='\\n') -> list:\n",
    "    \"Parse input into sections separated by `sep`, and apply `parser` to each.\"\n",
    "    sections = inp.rstrip().split(sep)\n",
    "    return [parser(section) for section in sections]\n",
    "\n",
    "def do(day, *answers, ex=None):\n",
    "    \"E.g., `do(3)` returns `{1: day3_1(in3), 2: day3_2(in3)}`. Verifies `answers` if given.\"\n",
    "    g = globals()\n",
    "    got = []\n",
    "    parse = g[f'parse{day}']\n",
    "    data = f'ex{day}_{ex}' if ex else f'in{day}'\n",
    "    for part in (1, 2):\n",
    "        fname = f'day{day}_{part}'\n",
    "        if fname in g:\n",
    "            got.append(g[fname](parse(g[data])))\n",
    "            if len(answers) >= part and answers[part - 1] != Ellipsis:\n",
    "                assert got[-1] == answers[part - 1], (\n",
    "                    f'{fname}(parse{day}({data})) got {got[-1]}; expected {answers[part - 1]}')\n",
    "    return got\n",
    "\n",
    "cat = ''.join\n",
    "flatten = itertools.chain.from_iterable"
   ]
  },
  {
   "cell_type": "markdown",
   "metadata": {},
   "source": [
    "# Day 10: Syntax Scoring"
   ]
  },
  {
   "cell_type": "markdown",
   "metadata": {},
   "source": [
    "Analyze inputs with unmatched characters."
   ]
  },
  {
   "cell_type": "code",
   "execution_count": 2,
   "metadata": {},
   "outputs": [],
   "source": [
    "ex10 = '''[({(<(())[]>[[{[]{<()<>>\n",
    "[(()[<>])]({[<{<<[]>>(\n",
    "{([(<{}[<>[]}>{[]{[(<()>\n",
    "(((({<>}<{<{<>}{[]{[]{}\n",
    "[[<[([]))<([[{}[[()]]]\n",
    "[{[{({}]{}}([{[{{{}}([]\n",
    "{<[[]]>}<{[{[{[]{()[[[]\n",
    "[<(<(<(<{}))><([]([]()\n",
    "<{([([[(<>()){}]>(<<{{\n",
    "<{([{{}}[<[[[<>{}]]]>[]]'''\n",
    "in10 = open('day10.txt').read()"
   ]
  },
  {
   "cell_type": "code",
   "execution_count": 3,
   "metadata": {},
   "outputs": [],
   "source": [
    "def parse10(I): return data(I)\n",
    "#parse10(ex10)"
   ]
  },
  {
   "cell_type": "code",
   "execution_count": 4,
   "metadata": {},
   "outputs": [],
   "source": [
    "def match_errors(line):\n",
    "    open, close = '([{<', ')]}>'\n",
    "    s = []\n",
    "    while line:\n",
    "        c, *line = line\n",
    "        if c in close:\n",
    "            if s.pop() != open[close.index(c)]:\n",
    "                return close.index(c) # unexpected character index ('corrupted' line)\n",
    "        elif c in open:\n",
    "            s.append(c)\n",
    "    return s # unbalanced characters stack ('incomplete' line)"
   ]
  },
  {
   "cell_type": "code",
   "execution_count": 5,
   "metadata": {},
   "outputs": [
    {
     "data": {
      "text/plain": [
       "26397"
      ]
     },
     "execution_count": 5,
     "metadata": {},
     "output_type": "execute_result"
    }
   ],
   "source": [
    "def day10_1(D):\n",
    "    points = [3, 57, 1197, 25137]\n",
    "    return sum(points[r] for r in map(match_errors, D) if not isinstance(r, list))\n",
    "day10_1(parse10(ex10))"
   ]
  },
  {
   "cell_type": "code",
   "execution_count": 6,
   "metadata": {},
   "outputs": [
    {
     "data": {
      "text/plain": [
       "388713"
      ]
     },
     "execution_count": 6,
     "metadata": {},
     "output_type": "execute_result"
    }
   ],
   "source": [
    "day10_1(parse10(in10))"
   ]
  },
  {
   "cell_type": "code",
   "execution_count": 7,
   "metadata": {},
   "outputs": [
    {
     "data": {
      "text/plain": [
       "288957"
      ]
     },
     "execution_count": 7,
     "metadata": {},
     "output_type": "execute_result"
    }
   ],
   "source": [
    "def day10_2(D):\n",
    "    def score(cs): return reduce(lambda r, c: r * 5 + '([{<'.index(c) + 1, cs, 0)\n",
    "    scores = sorted(score(reversed(r)) for r in map(match_errors, D) if isinstance(r, list))\n",
    "    return scores[len(scores) // 2]\n",
    "day10_2(parse10(ex10))"
   ]
  },
  {
   "cell_type": "code",
   "execution_count": 8,
   "metadata": {},
   "outputs": [
    {
     "data": {
      "text/plain": [
       "3539961434"
      ]
     },
     "execution_count": 8,
     "metadata": {},
     "output_type": "execute_result"
    }
   ],
   "source": [
    "day10_2(parse10(in10))"
   ]
  },
  {
   "cell_type": "markdown",
   "metadata": {},
   "source": [
    "# Day 11: Dumbo Octopus"
   ]
  },
  {
   "cell_type": "markdown",
   "metadata": {},
   "source": [
    "The task is to implement the algorithm that looks like [Game of Life], with notable differences:\n",
    "* The grid is fixed size - 10x10. Game of Life has infinite grid.\n",
    "* Calculating next step can take multiple iterations, in a [fixed-point][] fashion. In contrast, Game of Life can be implemented with a single iteration.\n",
    "\n",
    "(See also [my solution][day17-solution] to [Advent of Code 2020, day 17][day17].)\n",
    "\n",
    "[fixed-point]: https://en.wikipedia.org/wiki/Fixed_point_(mathematics)\n",
    "[Game of Life]: https://en.wikipedia.org/wiki/Conway%27s_Game_of_Life\n",
    "[day17-solution]: https://github.com/shamrin/adventofcode/blob/main/2020/17.py\n",
    "[day17]: https://adventofcode.com/2020/day/17"
   ]
  },
  {
   "cell_type": "markdown",
   "metadata": {},
   "source": [
    "## Parsing"
   ]
  },
  {
   "cell_type": "code",
   "execution_count": 9,
   "metadata": {},
   "outputs": [],
   "source": [
    "ex11 = '''5483143223\n",
    "2745854711\n",
    "5264556173\n",
    "6141336146\n",
    "6357385478\n",
    "4167524645\n",
    "2176841721\n",
    "6882881134\n",
    "4846848554\n",
    "5283751526'''\n",
    "in11 = open('day11.txt').read()"
   ]
  },
  {
   "cell_type": "code",
   "execution_count": 10,
   "metadata": {},
   "outputs": [
    {
     "data": {
      "text/plain": [
       "[[5, 4, 8, 3, 1, 4, 3, 2, 2, 3],\n",
       " [2, 7, 4, 5, 8, 5, 4, 7, 1, 1],\n",
       " [5, 2, 6, 4, 5, 5, 6, 1, 7, 3],\n",
       " [6, 1, 4, 1, 3, 3, 6, 1, 4, 6],\n",
       " [6, 3, 5, 7, 3, 8, 5, 4, 7, 8],\n",
       " [4, 1, 6, 7, 5, 2, 4, 6, 4, 5],\n",
       " [2, 1, 7, 6, 8, 4, 1, 7, 2, 1],\n",
       " [6, 8, 8, 2, 8, 8, 1, 1, 3, 4],\n",
       " [4, 8, 4, 6, 8, 4, 8, 5, 5, 4],\n",
       " [5, 2, 8, 3, 7, 5, 1, 5, 2, 6]]"
      ]
     },
     "execution_count": 10,
     "metadata": {},
     "output_type": "execute_result"
    }
   ],
   "source": [
    "def parse11(I): return data(I, lambda a: list(map(int, a)))\n",
    "parse11(ex11)"
   ]
  },
  {
   "cell_type": "markdown",
   "metadata": {},
   "source": [
    "## Solution core\n",
    "\n",
    "The core of the solution is `octopus_flashes` function. It generates numbers of octopuses that flashed after each step.\n",
    "\n",
    "Main data structure is `g` dictionary. It maps octopus *coordinate* to its current *energy value*.\n",
    "\n",
    "Auxilary data structures:\n",
    "\n",
    "* `step_flashes` set - coordinates of octopuses that flashed during the current step *so far*\n",
    "* `flashes` set - coordinates of octopuses that flashed *right now* \n",
    "* `adds` dictionary maps *coordinate* to current flash-induced *energy increase*. For example, `adds[1,1]` tells how many octopuses just flashed next to the octopus at `(1,1)`. Uses [`collections.Counter`](https://docs.python.org/3/library/collections.html#collections.Counter) helper."
   ]
  },
  {
   "cell_type": "code",
   "execution_count": 11,
   "metadata": {},
   "outputs": [],
   "source": [
    "def octopus_flashes(I, steps):\n",
    "    g = {(x,y): c for y, r in enumerate(I) for x, c in enumerate(r)}\n",
    "    for _ in range(steps):\n",
    "        g = {p: c+1 for p, c in g.items()}\n",
    "        step_flashes = set()\n",
    "        while flashes := {p for p, c in g.items() if c > 9}:\n",
    "            step_flashes |= flashes\n",
    "            adds = Counter((x+dx, y+dy) for x, y in flashes for dx in (-1,0,1) for dy in (-1,0,1))\n",
    "            g = {p: 0 if p in step_flashes else c+adds[p] for p, c in g.items()}\n",
    "        yield len(step_flashes)"
   ]
  },
  {
   "cell_type": "markdown",
   "metadata": {},
   "source": [
    "## Part 1"
   ]
  },
  {
   "cell_type": "code",
   "execution_count": 12,
   "metadata": {},
   "outputs": [
    {
     "data": {
      "text/plain": [
       "1656"
      ]
     },
     "execution_count": 12,
     "metadata": {},
     "output_type": "execute_result"
    }
   ],
   "source": [
    "def day11_1(D): return sum(octopus_flashes(D, 100))\n",
    "day11_1(parse11(ex11))"
   ]
  },
  {
   "cell_type": "code",
   "execution_count": 13,
   "metadata": {},
   "outputs": [
    {
     "data": {
      "text/plain": [
       "1608"
      ]
     },
     "execution_count": 13,
     "metadata": {},
     "output_type": "execute_result"
    }
   ],
   "source": [
    "day11_1(parse11(in11))"
   ]
  },
  {
   "cell_type": "markdown",
   "metadata": {},
   "source": [
    "## Part 2"
   ]
  },
  {
   "cell_type": "code",
   "execution_count": 14,
   "metadata": {},
   "outputs": [
    {
     "data": {
      "text/plain": [
       "195"
      ]
     },
     "execution_count": 14,
     "metadata": {},
     "output_type": "execute_result"
    }
   ],
   "source": [
    "def day11_2(D): return next(i+1 for i, f in enumerate(octopus_flashes(D, 10**6)) if f == 100)\n",
    "day11_2(parse11(ex11))"
   ]
  },
  {
   "cell_type": "code",
   "execution_count": 15,
   "metadata": {},
   "outputs": [
    {
     "data": {
      "text/plain": [
       "214"
      ]
     },
     "execution_count": 15,
     "metadata": {},
     "output_type": "execute_result"
    }
   ],
   "source": [
    "day11_2(parse11(in11))"
   ]
  },
  {
   "cell_type": "markdown",
   "metadata": {},
   "source": [
    "# Day 12: Passage Pathing"
   ]
  },
  {
   "cell_type": "markdown",
   "metadata": {},
   "source": [
    "## Parsing"
   ]
  },
  {
   "cell_type": "code",
   "execution_count": 16,
   "metadata": {},
   "outputs": [],
   "source": [
    "ex12_1 = '''start-A\n",
    "start-b\n",
    "A-c\n",
    "A-b\n",
    "b-d\n",
    "A-end\n",
    "b-end'''\n",
    "ex12_2 = '''dc-end\n",
    "HN-start\n",
    "start-kj\n",
    "dc-start\n",
    "dc-HN\n",
    "LN-dc\n",
    "HN-end\n",
    "kj-sa\n",
    "kj-HN\n",
    "kj-dc'''\n",
    "ex12_3 = '''fs-end\n",
    "he-DX\n",
    "fs-he\n",
    "start-DX\n",
    "pj-DX\n",
    "end-zg\n",
    "zg-sl\n",
    "zg-pj\n",
    "pj-he\n",
    "RW-he\n",
    "fs-DX\n",
    "pj-RW\n",
    "zg-RW\n",
    "start-pj\n",
    "he-WI\n",
    "zg-he\n",
    "pj-fs\n",
    "start-RW'''\n",
    "in12 = open('day12.txt').read()"
   ]
  },
  {
   "cell_type": "code",
   "execution_count": 17,
   "metadata": {},
   "outputs": [
    {
     "data": {
      "text/plain": [
       "defaultdict(list,\n",
       "            {'start': ['A', 'b'],\n",
       "             'A': ['c', 'b', 'end'],\n",
       "             'c': ['A'],\n",
       "             'b': ['A', 'd', 'end'],\n",
       "             'd': ['b']})"
      ]
     },
     "execution_count": 17,
     "metadata": {},
     "output_type": "execute_result"
    }
   ],
   "source": [
    "def parse12(I):\n",
    "    d = data(I, lambda s: s.split('-'))\n",
    "    g = defaultdict(list)\n",
    "    for v1, v2 in d:\n",
    "        if v1 != 'end' and v2 != 'start':\n",
    "            g[v1].append(v2)\n",
    "        if v2 != 'end' and v1 != 'start':\n",
    "            g[v2].append(v1)\n",
    "    return g\n",
    "parse12(ex12_1)"
   ]
  },
  {
   "cell_type": "markdown",
   "metadata": {},
   "source": [
    "## Solution"
   ]
  },
  {
   "cell_type": "code",
   "execution_count": 18,
   "metadata": {},
   "outputs": [],
   "source": [
    "def day12_1(G):\n",
    "    def paths(G, start, end, path=[]):\n",
    "        path = path + [start]\n",
    "        if start == end: yield path\n",
    "        for n in G[start]:\n",
    "            if n not in path or n.isupper():\n",
    "                yield from paths(G, n, end, path)\n",
    "    return quantify(paths(G, 'start', 'end'))"
   ]
  },
  {
   "cell_type": "code",
   "execution_count": 19,
   "metadata": {},
   "outputs": [],
   "source": [
    "def day12_2(G):\n",
    "    def paths(G, start, end, path=[], twice=False):\n",
    "        path = path + [start]\n",
    "        if start == end: yield path\n",
    "        for n in G[start]:\n",
    "            if not twice or n not in path or n.isupper():\n",
    "                yield from paths(G, n, end, path, twice or (not n.isupper() and n in path))\n",
    "    return quantify(paths(G, 'start', 'end'))"
   ]
  },
  {
   "cell_type": "code",
   "execution_count": 20,
   "metadata": {},
   "outputs": [
    {
     "data": {
      "text/plain": [
       "[4186, 92111]"
      ]
     },
     "execution_count": 20,
     "metadata": {},
     "output_type": "execute_result"
    }
   ],
   "source": [
    "do(12, 10, 36, ex=1)\n",
    "do(12, 19, 103, ex=2)\n",
    "do(12, 226, 3509, ex=3)\n",
    "do(12, 4186, 92111)"
   ]
  },
  {
   "cell_type": "markdown",
   "metadata": {},
   "source": [
    "I found it not worth it to combine the parts together. I think they are quite readabable as they are."
   ]
  },
  {
   "cell_type": "markdown",
   "metadata": {},
   "source": [
    "# Day 13: Transparent Origami"
   ]
  },
  {
   "cell_type": "markdown",
   "metadata": {},
   "source": [
    "## Parsing"
   ]
  },
  {
   "cell_type": "code",
   "execution_count": 21,
   "metadata": {},
   "outputs": [],
   "source": [
    "ex13_1 = '''6,10\n",
    "0,14\n",
    "9,10\n",
    "0,3\n",
    "10,4\n",
    "4,11\n",
    "6,0\n",
    "6,12\n",
    "4,1\n",
    "0,13\n",
    "10,12\n",
    "3,4\n",
    "3,0\n",
    "8,4\n",
    "1,10\n",
    "2,14\n",
    "8,10\n",
    "9,0\n",
    "\n",
    "fold along y=7\n",
    "fold along x=5'''\n",
    "in13 = open('day13.txt').read()"
   ]
  },
  {
   "cell_type": "code",
   "execution_count": 22,
   "metadata": {},
   "outputs": [
    {
     "data": {
      "text/plain": [
       "([(6, 10),\n",
       "  (0, 14),\n",
       "  (9, 10),\n",
       "  (0, 3),\n",
       "  (10, 4),\n",
       "  (4, 11),\n",
       "  (6, 0),\n",
       "  (6, 12),\n",
       "  (4, 1),\n",
       "  (0, 13),\n",
       "  (10, 12),\n",
       "  (3, 4),\n",
       "  (3, 0),\n",
       "  (8, 4),\n",
       "  (1, 10),\n",
       "  (2, 14),\n",
       "  (8, 10),\n",
       "  (9, 0)],\n",
       " [('y', 7), ('x', 5)])"
      ]
     },
     "execution_count": 22,
     "metadata": {},
     "output_type": "execute_result"
    }
   ],
   "source": [
    "def parse13(I):\n",
    "    D = data(I, lambda s: s.split('\\n'), '\\n\\n')\n",
    "    D = (\n",
    "        [tuple(map(int,s.split(','))) for s in D[0]],\n",
    "        [s.rpartition(' ')[2].split('=') for s in D[1]],\n",
    "    )\n",
    "    return D[0], [(xy, int(f)) for xy, f in D[1]]\n",
    "parse13(ex13_1)"
   ]
  },
  {
   "cell_type": "markdown",
   "metadata": {},
   "source": [
    "## Solution"
   ]
  },
  {
   "cell_type": "markdown",
   "metadata": {},
   "source": [
    "The core of the algorithm is folding one side along horizontal or vertical axis.\n",
    "\n",
    "First we come with the formula for folding over $x=f$ axis. Folding is the same as *mirroring* all $x > f$ points. To mirror, we first move points to the left, making $x=f$ the new $x=0$ axis:\n",
    "\n",
    "$x - f$\n",
    "\n",
    "After the above, mirroring is a simple negation:\n",
    "\n",
    "$-(x - f)$\n",
    "\n",
    "Lastly, we undo the initial move, to keep the upcoming $f$ values valid: \n",
    "\n",
    "$-(x - f) + f$\n",
    "\n",
    "**Formula for $x$ folding**, after simplifying the above ($\\forall$ means *for all*):\n",
    "\n",
    "$\\forall x > f: x \\leftarrow 2 f - x$\n",
    "\n",
    "**Formula for $y$ folding** is the same:\n",
    "\n",
    "$\\forall y > f: y \\leftarrow 2 f - y$"
   ]
  },
  {
   "cell_type": "code",
   "execution_count": 23,
   "metadata": {},
   "outputs": [
    {
     "name": "stdout",
     "output_type": "stream",
     "text": [
      "#####\n",
      "#...#\n",
      "#...#\n",
      "#...#\n",
      "#####\n"
     ]
    },
    {
     "data": {
      "text/plain": [
       "[17, None]"
      ]
     },
     "execution_count": 23,
     "metadata": {},
     "output_type": "execute_result"
    }
   ],
   "source": [
    "def origami_picture(d):\n",
    "    return '\\n'.join(\n",
    "        cat('#' if (x,y) in d else '.' for x in range(max(x for x,_ in d) + 1))\n",
    "        for y in range(max(y for _,y in d) + 1)\n",
    "    )\n",
    "\n",
    "def origami_folds(dots, folds):\n",
    "    def fold(c, f): return 2*f - c if c > f else c\n",
    "    def foldxy(x, y, xy, f): return fold(x, f) if xy == 'x' else x, fold(y, f) if xy == 'y' else y\n",
    "    return (dots := {foldxy(x, y, xy, f) for x, y in dots} for xy, f in folds)\n",
    "\n",
    "def day13_1(D): return len(first(origami_folds(*D)))\n",
    "def day13_2(D): print(origami_picture(last(origami_folds(*D))))\n",
    "do(13, 17, ex=1)"
   ]
  },
  {
   "cell_type": "code",
   "execution_count": 24,
   "metadata": {},
   "outputs": [
    {
     "name": "stdout",
     "output_type": "stream",
     "text": [
      "#..#.####.###..####.#..#..##..#..#.####\n",
      "#..#.#....#..#....#.#.#..#..#.#..#....#\n",
      "#..#.###..#..#...#..##...#..#.#..#...#.\n",
      "#..#.#....###...#...#.#..####.#..#..#..\n",
      "#..#.#....#.#..#....#.#..#..#.#..#.#...\n",
      ".##..#....#..#.####.#..#.#..#..##..####\n"
     ]
    },
    {
     "data": {
      "text/plain": [
       "[735, None]"
      ]
     },
     "execution_count": 24,
     "metadata": {},
     "output_type": "execute_result"
    }
   ],
   "source": [
    "do(13, 735)"
   ]
  },
  {
   "cell_type": "markdown",
   "metadata": {},
   "source": [
    "## Alternative solution"
   ]
  },
  {
   "cell_type": "markdown",
   "metadata": {},
   "source": [
    "Alternative `origami_folds` implementation, possibly easier to quickly type:\n",
    "\n",
    "1. transform all points to make fold line the new $x=0$ axis: $$x \\leftarrow x-f$$\n",
    "2. mirror all $x>0$ points: $$x \\leftarrow -x$$\n",
    "3. transform all points back: $$x \\leftarrow x+f$$\n",
    "\n",
    "Repeat for $y$."
   ]
  },
  {
   "cell_type": "code",
   "execution_count": 25,
   "metadata": {},
   "outputs": [],
   "source": [
    "def origami_folds(d, folds):\n",
    "    for xy, f in folds:\n",
    "        if xy == 'x':\n",
    "            d = {(x - f, y) for x,y in d}\n",
    "            d = {(-x if x > 0 else x, y) for x,y in d}\n",
    "            d = {(x + f, y) for x,y in d}\n",
    "        else:\n",
    "            d = {(x, y - f) for x,y in d}\n",
    "            d = {(x, -y if y > 0 else y) for x,y in d}\n",
    "            d = {(x, y + f) for x,y in d}\n",
    "        yield d"
   ]
  },
  {
   "cell_type": "markdown",
   "metadata": {},
   "source": [
    "## OCR\n",
    "\n",
    "Let's try OCR! Powered by [Pillow](https://pillow.readthedocs.io/), [Tesseract](https://tesseract-ocr.github.io/) and [Python-tesseract](https://github.com/madmaze/pytesseract)."
   ]
  },
  {
   "cell_type": "code",
   "execution_count": 26,
   "metadata": {},
   "outputs": [
    {
     "data": {
      "text/plain": [
       "'UFRZKAUZ'"
      ]
     },
     "execution_count": 26,
     "metadata": {},
     "output_type": "execute_result"
    },
    {
     "data": {
      "image/png": "[encoded data removed]",
      "text/plain": [
       "<Figure size 432x288 with 1 Axes>"
      ]
     },
     "metadata": {
      "needs_background": "light"
     },
     "output_type": "display_data"
    }
   ],
   "source": [
    "\n",
    "def origami_ocr(d):\n",
    "    import pytesseract\n",
    "    import matplotlib.image\n",
    "    w, h = max(x for x,_ in d) + 1, max(y for _,y in d) + 1\n",
    "    data = bytes(255 if (x,y) in d else 0 for y in range(-1, h+1) for x in range(-1, w+1))\n",
    "    W, H = w+2, h+2\n",
    "    im = Image.frombuffer('L', (W, H), data)\n",
    "    plt.imshow(matplotlib.image.pil_to_array(im)) # without mpl: display(im.resize((W*4, H*4), Image.NEAREST))\n",
    "    return pytesseract.image_to_string(im, config='--psm 7').strip()\n",
    "\n",
    "origami_ocr(last(origami_folds(*parse13(in13))))"
   ]
  },
  {
   "cell_type": "markdown",
   "metadata": {},
   "source": [
    "# Day 14: Extended Polymerization"
   ]
  },
  {
   "cell_type": "code",
   "execution_count": 27,
   "metadata": {},
   "outputs": [],
   "source": [
    "ex14_1 = '''NNCB\n",
    "\n",
    "CH -> B\n",
    "HH -> N\n",
    "CB -> H\n",
    "NH -> C\n",
    "HB -> C\n",
    "HC -> B\n",
    "HN -> C\n",
    "NN -> C\n",
    "BH -> H\n",
    "NC -> B\n",
    "NB -> B\n",
    "BN -> B\n",
    "BB -> N\n",
    "BC -> B\n",
    "CC -> N\n",
    "CN -> C'''\n",
    "in14 = open('day14.txt').read()"
   ]
  },
  {
   "cell_type": "code",
   "execution_count": 28,
   "metadata": {},
   "outputs": [
    {
     "data": {
      "text/plain": [
       "[3118, 4332887448171]"
      ]
     },
     "execution_count": 28,
     "metadata": {},
     "output_type": "execute_result"
    }
   ],
   "source": [
    "def parse14(I):\n",
    "    t, _, *rs = I.split('\\n')\n",
    "    return t, dict(r.split(' -> ') for r in rs)\n",
    "\n",
    "def polymerization(steps, t, rules):\n",
    "    @cache\n",
    "    def count(a, b, s=steps):\n",
    "        if s == 0: return Counter(a)\n",
    "        m = rules[a+b]\n",
    "        return count(a, m, s-1) + count(m, b, s-1)\n",
    "    c = sum(map(count, t, t[1:]), Counter(t[-1]))\n",
    "    return max(c.values()) - min(c.values())\n",
    "\n",
    "def day14_1(D): return polymerization(10, *D)\n",
    "def day14_2(D): return polymerization(40, *D)\n",
    "\n",
    "do(14, 1588, 2188189693529, ex=1)\n",
    "do(14, 3118, 4332887448171)"
   ]
  },
  {
   "cell_type": "markdown",
   "metadata": {},
   "source": [
    "# Day 15: Chiton"
   ]
  },
  {
   "cell_type": "markdown",
   "metadata": {},
   "source": [
    "## Parsing"
   ]
  },
  {
   "cell_type": "code",
   "execution_count": 29,
   "metadata": {},
   "outputs": [],
   "source": [
    "ex15_1 = '''1163751742\n",
    "1381373672\n",
    "2136511328\n",
    "3694931569\n",
    "7463417111\n",
    "1319128137\n",
    "1359912421\n",
    "3125421639\n",
    "1293138521\n",
    "2311944581'''\n",
    "in15 = open('day15.txt').read()"
   ]
  },
  {
   "cell_type": "code",
   "execution_count": 30,
   "metadata": {},
   "outputs": [
    {
     "data": {
      "text/plain": [
       "[[1, 1, 6, 3, 7, 5, 1, 7, 4, 2],\n",
       " [1, 3, 8, 1, 3, 7, 3, 6, 7, 2],\n",
       " [2, 1, 3, 6, 5, 1, 1, 3, 2, 8],\n",
       " [3, 6, 9, 4, 9, 3, 1, 5, 6, 9],\n",
       " [7, 4, 6, 3, 4, 1, 7, 1, 1, 1],\n",
       " [1, 3, 1, 9, 1, 2, 8, 1, 3, 7],\n",
       " [1, 3, 5, 9, 9, 1, 2, 4, 2, 1],\n",
       " [3, 1, 2, 5, 4, 2, 1, 6, 3, 9],\n",
       " [1, 2, 9, 3, 1, 3, 8, 5, 2, 1],\n",
       " [2, 3, 1, 1, 9, 4, 4, 5, 8, 1]]"
      ]
     },
     "execution_count": 30,
     "metadata": {},
     "output_type": "execute_result"
    }
   ],
   "source": [
    "def parse15(I): return data(I, lambda a: list(map(int, a)))\n",
    "parse15(ex15_1)"
   ]
  },
  {
   "cell_type": "markdown",
   "metadata": {},
   "source": [
    "## Solution"
   ]
  },
  {
   "cell_type": "code",
   "execution_count": 31,
   "metadata": {},
   "outputs": [
    {
     "data": {
      "text/plain": [
       "[415, 2864]"
      ]
     },
     "execution_count": 31,
     "metadata": {},
     "output_type": "execute_result"
    }
   ],
   "source": [
    "from typing import Any, TypeVar\n",
    "\n",
    "T = TypeVar('T')\n",
    "Graph = dict[T, list[tuple[T, int]]]\n",
    "ChitonGraph = Graph[tuple[int, int]]\n",
    "\n",
    "def chiton_graph(D, times) -> tuple[int, ChitonGraph]:\n",
    "    def clamp(n): return (n - 1) % 9 + 1\n",
    "    N = len(D[0])\n",
    "    risk = {\n",
    "        (x+N*i,y+N*j): clamp(w+i+j)\n",
    "        for i in range(times) for j in range(times)\n",
    "        for (y, r) in enumerate(D) for x, w in enumerate(r)\n",
    "    }\n",
    "\n",
    "    g: ChitonGraph = defaultdict(list)\n",
    "    for x, y in risk:\n",
    "        g[(x, y)].extend(\n",
    "            ((x+dx, y+dy), risk[x+dx, y+dy])\n",
    "            for dx, dy in product((-1,0,1), (-1,0,1))\n",
    "            if abs(dx) != abs(dy) and (x+dx, y+dy) in risk\n",
    "        )\n",
    "\n",
    "    return N*times, dict(g)\n",
    "\n",
    "def shortest_path(g: Graph[T], s: T, t: T) -> tuple[int, list[T]]:\n",
    "    \"\"\"Find shortest path from `s` to `t` in graph `g`, using Dijstra algorithm.\n",
    "\n",
    "    Return shortest path length and the path itself.\n",
    "    \"\"\"\n",
    "\n",
    "    # Inspired by https://stackoverflow.com/a/58833232\n",
    "\n",
    "    import heapq\n",
    "    q: list[tuple[int, T]] = [(0, s)]\n",
    "    dist: dict[T, int] = defaultdict(lambda: sys.maxsize, {s: 0})\n",
    "    parents = {}\n",
    "    while q:\n",
    "        d, u = heapq.heappop(q)\n",
    "        for v, w in g[u]:\n",
    "            new_d = d + w\n",
    "            if new_d < dist[v]:\n",
    "                dist[v] = new_d\n",
    "                parents[v] = u\n",
    "                heapq.heappush(q, (new_d, v))\n",
    "\n",
    "    path = [t]\n",
    "    while path[-1] != s:\n",
    "        path.append(parents[path[-1]])\n",
    "\n",
    "    return dist[t], path[::-1]\n",
    "\n",
    "def day15_1(D):\n",
    "    N, g = chiton_graph(D, 1)\n",
    "    return shortest_path(g, (0,0), (N-1,N-1))[0]\n",
    "\n",
    "def day15_2(D):\n",
    "    N, g = chiton_graph(D, 5)\n",
    "    return shortest_path(g, (0,0), (N-1,N-1))[0]\n",
    "\n",
    "do(15, 40, 315, ex=1)\n",
    "do(15, 415, 2864)"
   ]
  },
  {
   "cell_type": "markdown",
   "metadata": {},
   "source": [
    "## Plot path"
   ]
  },
  {
   "cell_type": "code",
   "execution_count": 32,
   "metadata": {},
   "outputs": [
    {
     "data": {
      "image/png": "[encoded data removed]",
      "text/plain": [
       "<Figure size 432x288 with 1 Axes>"
      ]
     },
     "metadata": {
      "needs_background": "light"
     },
     "output_type": "display_data"
    },
    {
     "data": {
      "image/png": "[encoded data removed]",
      "text/plain": [
       "<Figure size 432x288 with 1 Axes>"
      ]
     },
     "metadata": {
      "needs_background": "light"
     },
     "output_type": "display_data"
    }
   ],
   "source": [
    "def chiton_plot(I, title):\n",
    "    N, g = chiton_graph(parse15(I), 1)\n",
    "    _, path = shortest_path(g, (0,0), (N-1,N-1))\n",
    "\n",
    "    plt.figure()\n",
    "    plt.xlabel('x')\n",
    "    plt.ylabel('y')\n",
    "    plt.title(title)\n",
    "    plt.gca().invert_yaxis()\n",
    "    plt.plot(*numpy.array(path).T)\n",
    "\n",
    "# uncomment to enable interactive plot viewer\n",
    "# %matplotlib widget\n",
    "chiton_plot(ex15_1, 'Part 1: example')\n",
    "chiton_plot(in15, 'Part 1: input')"
   ]
  },
  {
   "cell_type": "markdown",
   "metadata": {},
   "source": [
    "# Day 16: Packet Decoder"
   ]
  },
  {
   "cell_type": "code",
   "execution_count": 33,
   "metadata": {},
   "outputs": [
    {
     "data": {
      "text/plain": [
       "[993, 144595909277]"
      ]
     },
     "execution_count": 33,
     "metadata": {},
     "output_type": "execute_result"
    }
   ],
   "source": [
    "@dataclass\n",
    "class Packet:\n",
    "    version: int\n",
    "    type_id: int\n",
    "    packets: list['Packet']\n",
    "    number: int\n",
    "\n",
    "@dataclass\n",
    "class PacketReader:\n",
    "    bits: str\n",
    "    pos: int = 0\n",
    "    def read(self, n):\n",
    "        return int(self.read_raw(n), 2)\n",
    "    def read_raw(self, n):\n",
    "        s = self.bits[self.pos:self.pos+n]\n",
    "        self.pos += n\n",
    "        return s\n",
    "\n",
    "def packet_parse(r: PacketReader) -> Packet:\n",
    "    version, type_id = r.read(3), r.read(3)\n",
    "\n",
    "    # literal\n",
    "    if type_id == 4:\n",
    "        number, cont = '', 1\n",
    "        while cont:\n",
    "            cont = r.read(1)\n",
    "            number += r.read_raw(4)\n",
    "        return Packet(version, type_id, [], int(number, 2))\n",
    "\n",
    "    # operator\n",
    "    length_type_id = r.read(1)\n",
    "    if length_type_id == 1:\n",
    "        packets = [packet_parse(r) for _ in range(r.read(11))]\n",
    "    else:\n",
    "        length = r.read(15)\n",
    "        start = r.pos\n",
    "        packets = []\n",
    "        while r.pos - start < length:\n",
    "            packets.append(packet_parse(r))\n",
    "    return Packet(version, type_id, packets, 0)\n",
    "\n",
    "def day16_1(bits: str):\n",
    "    def sumver(p: Packet):\n",
    "        return p.version + sum(map(sumver, p.packets))\n",
    "    return sumver(packet_parse(PacketReader(bits)))\n",
    "\n",
    "def day16_2(bits: str):\n",
    "    def calculate(p: Packet) -> int:\n",
    "        return {\n",
    "            0: sum,\n",
    "            1: math.prod,\n",
    "            2: min,\n",
    "            3: max,\n",
    "            4: lambda _: p.number,\n",
    "            5: lambda args: operator.gt(*args),\n",
    "            6: lambda args: operator.lt(*args),\n",
    "            7: lambda args: operator.eq(*args),\n",
    "        }[p.type_id](map(calculate, p.packets))\n",
    "    return calculate(packet_parse(PacketReader(bits)))\n",
    "\n",
    "def parse16(I): return cat(bin(byte)[2:].rjust(8, '0') for byte in bytes.fromhex(I))\n",
    "\n",
    "# part 1 examples\n",
    "ex16_1 = '8A004A801A8002F478'\n",
    "ex16_2 = '620080001611562C8802118E34'\n",
    "ex16_3 = 'C0015000016115A2E0802F182340'\n",
    "ex16_4 = 'A0016C880162017C3686B18A3D4780'\n",
    "do(16, 16, ex=1)\n",
    "do(16, 12, ex=2)\n",
    "do(16, 23, ex=3)\n",
    "do(16, 31, ex=4)\n",
    "\n",
    "# part 2 examples\n",
    "ex16_5 = 'C200B40A82'\n",
    "ex16_6 = '04005AC33890'\n",
    "ex16_7 = '880086C3E88112'\n",
    "ex16_8 = 'CE00C43D881120'\n",
    "ex16_9 = 'D8005AC2A8F0'\n",
    "ex16_10 = 'F600BC2D8F'\n",
    "ex16_11 = '9C005AC2F8F0'\n",
    "ex16_12 = '9C0141080250320F1802104A08'\n",
    "do(16, ..., 3, ex=5)\n",
    "do(16, ..., 54, ex=6)\n",
    "do(16, ..., 7, ex=7)\n",
    "do(16, ..., 9, ex=8)\n",
    "do(16, ..., 1, ex=9)\n",
    "do(16, ..., 0, ex=10)\n",
    "do(16, ..., 0, ex=11)\n",
    "do(16, ..., 1, ex=12)\n",
    "\n",
    "in16 = open('day16.txt').read()\n",
    "do(16, 993, 144595909277)"
   ]
  },
  {
   "cell_type": "markdown",
   "metadata": {},
   "source": [
    "# Day 17: Trick Shot"
   ]
  },
  {
   "cell_type": "markdown",
   "metadata": {},
   "source": [
    "## Solution"
   ]
  },
  {
   "cell_type": "code",
   "execution_count": 34,
   "metadata": {},
   "outputs": [
    {
     "data": {
      "text/plain": [
       "[15400, 5844]"
      ]
     },
     "execution_count": 34,
     "metadata": {},
     "output_type": "execute_result"
    }
   ],
   "source": [
    "ex17_1 = '''target area: x=20..30, y=-10..-5'''\n",
    "in17 = open('day17.txt').read()\n",
    "def parse17(I): return ints(I)\n",
    "\n",
    "Point = tuple[int, int]\n",
    "\n",
    "def trick_shot_step(x, y, vx, vy):\n",
    "    vxsign = -1 if vx < 0 else 1\n",
    "    return x + vx, y + vy, vxsign * (abs(vx) - 1) if vx != 0 else 0, vy - 1\n",
    "\n",
    "def trick_shot(vx, vy, x1, x2, y1, y2, x=0, y=0) -> list[Point]:\n",
    "    points: list[tuple[int, int]] = [(x,y)]\n",
    "    while 1:\n",
    "        x, y, vx, vy = trick_shot_step(x, y, vx, vy)\n",
    "        points.append((x, y))\n",
    "        if y < y1 or x > x2:\n",
    "            break\n",
    "    return points\n",
    "\n",
    "def trick_shots(D) -> set[tuple[int, Point]]:\n",
    "    x1, x2, y1, y2 = D\n",
    "    solutions = set()\n",
    "    for vx0 in range(200):\n",
    "        for vy0 in range(-200, 200):\n",
    "            points = trick_shot(vx0, vy0, x1, x2, y1, y2)\n",
    "            px, py = points[-2]\n",
    "            if y1 <= py <= y2 and x1 <= px <= x2:\n",
    "                solutions.add((max(y for _, y in points), (vx0, vy0)))\n",
    "    return solutions\n",
    "\n",
    "def day17_1(D): return max(maxy for maxy, _ in trick_shots(D))\n",
    "def day17_2(D): return len(trick_shots(D))\n",
    "\n",
    "do(17, 45, 112, ex=1)\n",
    "do(17, 15400, 5844)"
   ]
  },
  {
   "cell_type": "markdown",
   "metadata": {},
   "source": [
    "## Plot trajectory"
   ]
  },
  {
   "cell_type": "code",
   "execution_count": 35,
   "metadata": {},
   "outputs": [
    {
     "data": {
      "image/png": "[encoded data removed]",
      "text/plain": [
       "<Figure size 432x288 with 1 Axes>"
      ]
     },
     "metadata": {
      "needs_background": "light"
     },
     "output_type": "display_data"
    },
    {
     "data": {
      "image/png": "[encoded data removed]",
      "text/plain": [
       "<Figure size 432x288 with 1 Axes>"
      ]
     },
     "metadata": {
      "needs_background": "light"
     },
     "output_type": "display_data"
    }
   ],
   "source": [
    "def trick_shot_plot(vx, vy, x1, x2, y1, y2):\n",
    "    points = trick_shot(vx, vy, x1, x2, y1, y2)\n",
    "\n",
    "    import matplotlib.patches as patches\n",
    "    plt.figure()\n",
    "    rect = patches.Rectangle((x1, y1), (x2-x1), (y2-y1), linewidth=1, edgecolor='g', facecolor='none')\n",
    "    plt.gca().add_patch(rect)\n",
    "    plt.axis('equal')\n",
    "    plt.plot(*numpy.array(points).T, '.:')\n",
    "    px, py = points[-2]\n",
    "    plt.title(f'$v=({vx},{vy})$')\n",
    "    if y1 <= py <= y2 and x1 <= px <= x2:\n",
    "        plt.plot([px], [py], 'og')\n",
    "    else:\n",
    "        for x, y in points[-2:]:\n",
    "            plt.text(x * (1 + 0.01), y * (1 + 0.01), f'{x},{y}', fontsize=10)\n",
    "            plt.plot([x], [y], 'xr')\n",
    "\n",
    "def trick_shot_plots():\n",
    "    D = parse17(ex17_1)\n",
    "    _, (vx, vy) = sorted(trick_shots(D))[-7]\n",
    "    trick_shot_plot(vx, vy, *D)\n",
    "    trick_shot_plot(12, -1, *D)\n",
    "\n",
    "# %matplotlib widget\n",
    "trick_shot_plots()"
   ]
  }
 ],
 "metadata": {
  "interpreter": {
   "hash": "cbc47132c8a580bb15f2cbaa263348454952b7d9b80f6ddef2ee749d71daad3d"
  },
  "kernelspec": {
   "display_name": "Python 3.9.8 64-bit ('adventofcode2021-Vde9lgL1-py3.9': poetry)",
   "name": "python3"
  },
  "language_info": {
   "codemirror_mode": {
    "name": "ipython",
    "version": 3
   },
   "file_extension": ".py",
   "mimetype": "text/x-python",
   "name": "python",
   "nbconvert_exporter": "python",
   "pygments_lexer": "ipython3",
   "version": "3.9.8"
  },
  "orig_nbformat": 4
 },
 "nbformat": 4,
 "nbformat_minor": 2
}
