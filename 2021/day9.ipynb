{
 "cells": [
  {
   "cell_type": "code",
   "execution_count": 1,
   "metadata": {},
   "outputs": [],
   "source": [
    "example = '''2199943210\n",
    "3987894921\n",
    "9856789892\n",
    "8767896789\n",
    "9899965678'''\n",
    "input = open('day9.txt').read()"
   ]
  },
  {
   "cell_type": "code",
   "execution_count": 2,
   "metadata": {},
   "outputs": [
    {
     "data": {
      "text/plain": [
       "[[9, 9, 9, 9, 9, 9, 9, 9, 9, 9, 9, 9],\n",
       " [9, 2, 1, 9, 9, 9, 4, 3, 2, 1, 0, 9],\n",
       " [9, 3, 9, 8, 7, 8, 9, 4, 9, 2, 1, 9],\n",
       " [9, 9, 8, 5, 6, 7, 8, 9, 8, 9, 2, 9],\n",
       " [9, 8, 7, 6, 7, 8, 9, 6, 7, 8, 9, 9],\n",
       " [9, 9, 8, 9, 9, 9, 6, 5, 6, 7, 8, 9],\n",
       " [9, 9, 9, 9, 9, 9, 9, 9, 9, 9, 9, 9]]"
      ]
     },
     "execution_count": 2,
     "metadata": {},
     "output_type": "execute_result"
    }
   ],
   "source": [
    "inf = 9\n",
    "def parse(I):\n",
    "    r = [[inf] + [int(c) for c in line.strip()] + [inf] for line in I.split('\\n')]\n",
    "    return [[inf] * len(r[0])] + r + [[inf] * len(r[0])]\n",
    "parse(example)"
   ]
  },
  {
   "cell_type": "code",
   "execution_count": 3,
   "metadata": {},
   "outputs": [
    {
     "data": {
      "text/plain": [
       "15"
      ]
     },
     "execution_count": 3,
     "metadata": {},
     "output_type": "execute_result"
    }
   ],
   "source": [
    "def neighbours(r, c): return [(r,c-1), (r,c+1), (r-1,c), (r+1,c)]\n",
    "def low_points(D):\n",
    "    return [\n",
    "        (r, c)\n",
    "        for r in range(1, len(D) - 1)\n",
    "        for c in range(1, len(D[0]) - 1)\n",
    "        if all(D[rn][cn] > D[r][c] for rn, cn in neighbours(r, c))\n",
    "    ]\n",
    "def part1(D): return sum(D[r][c]+1 for r, c in low_points(D))\n",
    "part1(parse(example))"
   ]
  },
  {
   "cell_type": "code",
   "execution_count": 4,
   "metadata": {},
   "outputs": [
    {
     "data": {
      "text/plain": [
       "478"
      ]
     },
     "execution_count": 4,
     "metadata": {},
     "output_type": "execute_result"
    }
   ],
   "source": [
    "part1(parse(input))"
   ]
  },
  {
   "cell_type": "code",
   "execution_count": 5,
   "metadata": {},
   "outputs": [
    {
     "data": {
      "text/plain": [
       "{(1, 1), (1, 2), (2, 1)}"
      ]
     },
     "execution_count": 5,
     "metadata": {},
     "output_type": "execute_result"
    }
   ],
   "source": [
    "def fill(D, r, c, filled):\n",
    "    if (r, c) in filled: return\n",
    "    filled.add((r, c))\n",
    "    for rn, cn in neighbours(r, c):\n",
    "        if D[rn][cn] < 9:\n",
    "            fill(D, rn, cn, filled)\n",
    "def basin(D, r, c):\n",
    "    filled = set()\n",
    "    fill(D, r, c, filled)\n",
    "    return filled\n",
    "basin(parse(example), 1, 2)"
   ]
  },
  {
   "cell_type": "code",
   "execution_count": 6,
   "metadata": {},
   "outputs": [
    {
     "data": {
      "text/plain": [
       "1134"
      ]
     },
     "execution_count": 6,
     "metadata": {},
     "output_type": "execute_result"
    }
   ],
   "source": [
    "import functools, operator\n",
    "def prod(a): return functools.reduce(operator.mul, a)\n",
    "def basins(D): return set(frozenset(basin(D, r, c)) for r, c in low_points(D))\n",
    "def part2(D): return prod(sorted((len(b) for b in basins(D)), reverse=True)[:3])\n",
    "part2(parse(example))"
   ]
  },
  {
   "cell_type": "code",
   "execution_count": 7,
   "metadata": {},
   "outputs": [
    {
     "data": {
      "text/plain": [
       "1327014"
      ]
     },
     "execution_count": 7,
     "metadata": {},
     "output_type": "execute_result"
    }
   ],
   "source": [
    "part2(parse(input))"
   ]
  }
 ],
 "metadata": {
  "interpreter": {
   "hash": "cbc47132c8a580bb15f2cbaa263348454952b7d9b80f6ddef2ee749d71daad3d"
  },
  "kernelspec": {
   "display_name": "Python 3.9.8 64-bit ('adventofcode2021-Vde9lgL1-py3.9': poetry)",
   "name": "python3"
  },
  "language_info": {
   "codemirror_mode": {
    "name": "ipython",
    "version": 3
   },
   "file_extension": ".py",
   "mimetype": "text/x-python",
   "name": "python",
   "nbconvert_exporter": "python",
   "pygments_lexer": "ipython3",
   "version": "3.9.8"
  },
  "orig_nbformat": 4
 },
 "nbformat": 4,
 "nbformat_minor": 2
}
